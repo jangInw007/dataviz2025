{
  "nbformat": 4,
  "nbformat_minor": 0,
  "metadata": {
    "kernelspec": {
      "display_name": "Python 3",
      "language": "python",
      "name": "python3"
    },
    "language_info": {
      "codemirror_mode": {
        "name": "ipython",
        "version": 3
      },
      "file_extension": ".py",
      "mimetype": "text/x-python",
      "name": "python",
      "nbconvert_exporter": "python",
      "pygments_lexer": "ipython3",
      "version": "3.7.4"
    },
    "colab": {
      "provenance": [],
      "toc_visible": true,
      "include_colab_link": true
    }
  },
  "cells": [
    {
      "cell_type": "markdown",
      "metadata": {
        "id": "view-in-github",
        "colab_type": "text"
      },
      "source": [
        "<a href=\"https://colab.research.google.com/github/jangInw007/dataviz2025/blob/main/Dictionary_Function_Loop_Condition_2025.ipynb\" target=\"_parent\"><img src=\"https://colab.research.google.com/assets/colab-badge.svg\" alt=\"Open In Colab\"/></a>"
      ]
    },
    {
      "cell_type": "markdown",
      "source": [
        "HW1 note"
      ],
      "metadata": {
        "id": "2wnVRxt7Qw8x"
      }
    },
    {
      "cell_type": "code",
      "source": [
        "inp = '12:30:15-13:41:07'\n",
        "inp_list = inp.split('-')\n",
        "inp_list"
      ],
      "metadata": {
        "colab": {
          "base_uri": "https://localhost:8080/"
        },
        "id": "7b9PZ1gTQ0EA",
        "outputId": "b9f21012-312d-450a-dec1-1ecc4893a91c"
      },
      "execution_count": null,
      "outputs": [
        {
          "output_type": "execute_result",
          "data": {
            "text/plain": [
              "['12:30:15', '13:41:07']"
            ]
          },
          "metadata": {},
          "execution_count": 1
        }
      ]
    },
    {
      "cell_type": "markdown",
      "source": [
        "# Dictionary"
      ],
      "metadata": {
        "id": "UisPunWJSBUC"
      }
    },
    {
      "cell_type": "code",
      "source": [
        "dict_a = {'abc':123,'def':456,'ghi':789}\n",
        "#บอก index = abc\n",
        "# : ชี้ไปที่ค่าไหน"
      ],
      "metadata": {
        "id": "bmRTTId9SFgJ"
      },
      "execution_count": null,
      "outputs": []
    },
    {
      "cell_type": "code",
      "source": [
        "dict_a"
      ],
      "metadata": {
        "colab": {
          "base_uri": "https://localhost:8080/"
        },
        "id": "bkTs8GYUSzja",
        "outputId": "36d52e27-5149-42a8-8660-a201a3a3f606"
      },
      "execution_count": null,
      "outputs": [
        {
          "output_type": "execute_result",
          "data": {
            "text/plain": [
              "{'abc': 123, 'def': 456, 'ghi': 789}"
            ]
          },
          "metadata": {},
          "execution_count": 4
        }
      ]
    },
    {
      "cell_type": "code",
      "source": [
        "dict_a['def'] #เรียก dic"
      ],
      "metadata": {
        "colab": {
          "base_uri": "https://localhost:8080/"
        },
        "id": "89tNz1AjS8Y5",
        "outputId": "7883213a-6e0a-4cff-992b-861660d2116a"
      },
      "execution_count": null,
      "outputs": [
        {
          "output_type": "execute_result",
          "data": {
            "text/plain": [
              "456"
            ]
          },
          "metadata": {},
          "execution_count": 5
        }
      ]
    },
    {
      "cell_type": "code",
      "source": [
        "dict_b = {}"
      ],
      "metadata": {
        "id": "roUYdx_2TR4K"
      },
      "execution_count": null,
      "outputs": []
    },
    {
      "cell_type": "code",
      "source": [
        "dict_b['a'] = 123"
      ],
      "metadata": {
        "id": "W8L3NPGcTcBK"
      },
      "execution_count": null,
      "outputs": []
    },
    {
      "cell_type": "code",
      "source": [
        "dict_b['a'] = 12 #ถ้าแอดชื่อเดิม มันจะเซฟทับเลย ระวัง"
      ],
      "metadata": {
        "id": "KzPQI04LTs5p"
      },
      "execution_count": null,
      "outputs": []
    },
    {
      "cell_type": "code",
      "source": [
        "dict_b"
      ],
      "metadata": {
        "colab": {
          "base_uri": "https://localhost:8080/"
        },
        "id": "bfBr2UboTmqi",
        "outputId": "ddfc7c23-3da6-4004-e22b-fd6e1aacdbb5"
      },
      "execution_count": null,
      "outputs": [
        {
          "output_type": "execute_result",
          "data": {
            "text/plain": [
              "{'a': 12}"
            ]
          },
          "metadata": {},
          "execution_count": 18
        }
      ]
    },
    {
      "cell_type": "markdown",
      "source": [
        "## การ add สมาชิกเข้าไปใน dict"
      ],
      "metadata": {
        "id": "l2A_qpF_UHJ6"
      }
    },
    {
      "cell_type": "code",
      "source": [
        "if 'b' not in dict_b:\n",
        "  dict_b['b'] = 123"
      ],
      "metadata": {
        "id": "IOSiH4hVUOiL"
      },
      "execution_count": null,
      "outputs": []
    },
    {
      "cell_type": "code",
      "source": [
        "dict_b"
      ],
      "metadata": {
        "colab": {
          "base_uri": "https://localhost:8080/"
        },
        "id": "2BulfWqLUcoy",
        "outputId": "297343e6-6f0f-43b7-c35c-37ae5056c837"
      },
      "execution_count": null,
      "outputs": [
        {
          "output_type": "execute_result",
          "data": {
            "text/plain": [
              "{'a': 12, 'b': 123}"
            ]
          },
          "metadata": {},
          "execution_count": 20
        }
      ]
    },
    {
      "cell_type": "markdown",
      "metadata": {
        "id": "-57L9aVubPqU"
      },
      "source": [
        "# **Function**"
      ]
    },
    {
      "cell_type": "markdown",
      "metadata": {
        "id": "1DNzYhO4bPqb"
      },
      "source": [
        "## Function template\n",
        "#### ทำหน้าที่รับ input มาประมวณผลออกมาเป็น output\n",
        "#### f(x) = y\n",
        "() input"
      ]
    },
    {
      "cell_type": "markdown",
      "metadata": {
        "id": "3Nv1ZDEKbPqc"
      },
      "source": [
        "### def คือการกำหนดฟังก์ชัน"
      ]
    },
    {
      "cell_type": "markdown",
      "metadata": {
        "id": "DbHDoWEabPqc"
      },
      "source": [
        "```python\n",
        "    def function_name(_Input_) :\n",
        "        do_something with _Input_ to get _Output_\n",
        "        return _Output_\n",
        "```"
      ]
    },
    {
      "cell_type": "markdown",
      "metadata": {
        "id": "1fuimreqpVhU"
      },
      "source": [
        "เราใช้ **เว้นวรรค (indent)** เพื่อบอกขอบเขตของโปรแกรม"
      ]
    },
    {
      "cell_type": "markdown",
      "metadata": {
        "id": "kh2M1smCl5Iv"
      },
      "source": [
        "#### **function มีส่วนสำคัญทั้งหมด 4 ส่วน**\n",
        "\n",
        "1.   บอก python ว่าเราจะเขียนฟังก์ชั่น ชื่ออะไร  ```def function_name():``` (ขาดไม่ได้)\n",
        "2.   กำหนดตัวแปรที่จะเป็น input  ```_Input_``` (ขาดได้)\n",
        "3.   ส่วนประมวลผล ```do_something with _Input_ to get _Output_``` (ขาดไม่ได้)\n",
        "4.   ส่วน output ```return _Output_```(ขาดได้)\n",
        "\n"
      ]
    },
    {
      "cell_type": "markdown",
      "metadata": {
        "id": "lqWzVN5AbPqc"
      },
      "source": [
        "#### ตัวอย่างการเขียน normal function\n"
      ]
    },
    {
      "cell_type": "code",
      "source": [
        "def print_myname():   # ตัวอย่าง function ที่ไม่มีทั้ง input และ output\n",
        "    print('Chitlada')"
      ],
      "metadata": {
        "id": "6wzfVo_pTefO"
      },
      "execution_count": null,
      "outputs": []
    },
    {
      "cell_type": "code",
      "source": [
        "print_myname()"
      ],
      "metadata": {
        "colab": {
          "base_uri": "https://localhost:8080/"
        },
        "id": "482E9UnsUMkC",
        "outputId": "cd742e18-89f8-4a16-aa71-cbd89a7fcbe5"
      },
      "execution_count": null,
      "outputs": [
        {
          "output_type": "stream",
          "name": "stdout",
          "text": [
            "Chitlada\n"
          ]
        }
      ]
    },
    {
      "cell_type": "code",
      "source": [
        "b = print_myname()"
      ],
      "metadata": {
        "colab": {
          "base_uri": "https://localhost:8080/"
        },
        "id": "xqenq-OXXhxB",
        "outputId": "e7d62b8c-74df-499b-fb4b-5e152aaaa1cb"
      },
      "execution_count": null,
      "outputs": [
        {
          "output_type": "stream",
          "name": "stdout",
          "text": [
            "Chitlada\n"
          ]
        }
      ]
    },
    {
      "cell_type": "code",
      "source": [
        "b #เอาตัวแปรมารับแบบไม่มี return ถ้าprint จะไม่ออกค่า"
      ],
      "metadata": {
        "id": "CTN_FlyGXkza"
      },
      "execution_count": null,
      "outputs": []
    },
    {
      "cell_type": "code",
      "source": [
        "def print_name(name):        # ตัวอย่าง function ที่ มี input กับ output ครบทุกส่วน\n",
        "    st = f'ชื่อ {name}'\n",
        "    return st"
      ],
      "metadata": {
        "id": "-JmjqWPGWtc5"
      },
      "execution_count": null,
      "outputs": []
    },
    {
      "cell_type": "code",
      "source": [
        "print_name('stat')"
      ],
      "metadata": {
        "colab": {
          "base_uri": "https://localhost:8080/",
          "height": 35
        },
        "id": "u4VaCDqeW9-i",
        "outputId": "5df4bb5e-71bd-47f2-86d0-e560d522fc0a"
      },
      "execution_count": null,
      "outputs": [
        {
          "output_type": "execute_result",
          "data": {
            "text/plain": [
              "'ชื่อ stat'"
            ],
            "application/vnd.google.colaboratory.intrinsic+json": {
              "type": "string"
            }
          },
          "metadata": {},
          "execution_count": 26
        }
      ]
    },
    {
      "cell_type": "code",
      "source": [
        "a = print_name('stat') #เอา a มารับค่า แบบที่มี  return จะprint a ได้\n",
        "a"
      ],
      "metadata": {
        "colab": {
          "base_uri": "https://localhost:8080/",
          "height": 35
        },
        "id": "SSD1KZUqXQda",
        "outputId": "45846c50-3b90-4949-c4d9-2256e4b30715"
      },
      "execution_count": null,
      "outputs": [
        {
          "output_type": "execute_result",
          "data": {
            "text/plain": [
              "'ชื่อ stat'"
            ],
            "application/vnd.google.colaboratory.intrinsic+json": {
              "type": "string"
            }
          },
          "metadata": {},
          "execution_count": 28
        }
      ]
    },
    {
      "cell_type": "code",
      "metadata": {
        "id": "n706WULobPqc"
      },
      "source": [
        "def print_fullname(surname,ID,name):        # ตัวอย่าง function ที่ มี input หลายตัว กับ output 1 ตัว\n",
        "    st = f'ชื่อ {name} นามสกุล {surname} รหัส {ID}'\n",
        "    return st"
      ],
      "execution_count": null,
      "outputs": []
    },
    {
      "cell_type": "code",
      "metadata": {
        "colab": {
          "base_uri": "https://localhost:8080/",
          "height": 35
        },
        "id": "muh0pi_Gkym8",
        "outputId": "ed7a2e96-2144-4383-f40c-09d90de93f98"
      },
      "source": [
        "print_fullname('นิมินรัมย์','663020278-5','จิตรลดา')"
      ],
      "execution_count": null,
      "outputs": [
        {
          "output_type": "execute_result",
          "data": {
            "text/plain": [
              "'ชื่อ จิตรลดา นามสกุล นิมินรัมย์ รหัส 663020278-5'"
            ],
            "application/vnd.google.colaboratory.intrinsic+json": {
              "type": "string"
            }
          },
          "metadata": {},
          "execution_count": 35
        }
      ]
    },
    {
      "cell_type": "code",
      "source": [
        "print_fullname(name='กาญจนา',surname='ประสาคุณ',ID='603021855-2')"
      ],
      "metadata": {
        "colab": {
          "base_uri": "https://localhost:8080/",
          "height": 35
        },
        "id": "vxooaHuHVTDJ",
        "outputId": "4599fec1-9287-4829-c05a-863b023fd7da"
      },
      "execution_count": null,
      "outputs": [
        {
          "output_type": "execute_result",
          "data": {
            "text/plain": [
              "'ชื่อ กาญจนา นามสกุล ประสาคุณ รหัส 603021855-2'"
            ],
            "application/vnd.google.colaboratory.intrinsic+json": {
              "type": "string"
            }
          },
          "metadata": {},
          "execution_count": 37
        }
      ]
    },
    {
      "cell_type": "markdown",
      "metadata": {
        "id": "tSV-FUQBpx0i"
      },
      "source": [
        "#### ฟังก์ชั่นไม่จำเป็นต้องมี output"
      ]
    },
    {
      "cell_type": "code",
      "metadata": {
        "id": "loNAFSvLo5dC"
      },
      "source": [
        "def print_fullname2(surname,ID,name):\n",
        "    st = f'ชื่อ {name} นามสกุล {surname} รหัส {ID}'\n",
        "    print(st) # no return"
      ],
      "execution_count": null,
      "outputs": []
    },
    {
      "cell_type": "code",
      "metadata": {
        "colab": {
          "base_uri": "https://localhost:8080/"
        },
        "id": "JE88oCj8o_j_",
        "outputId": "2b2d65a0-7206-4f2a-de3d-52ece3ea83e6"
      },
      "source": [
        "print_fullname2(name='กาญจนา',surname='ประสาคุณ',ID='603021855-2')"
      ],
      "execution_count": null,
      "outputs": [
        {
          "output_type": "stream",
          "name": "stdout",
          "text": [
            "ชื่อ กาญจนา นามสกุล ประสาคุณ รหัส 603021855-2\n"
          ]
        }
      ]
    },
    {
      "cell_type": "markdown",
      "source": [
        "### ข้อแตกต่างระหว่าง function ที่มีและไม่มี output"
      ],
      "metadata": {
        "id": "dW328wxLWauv"
      }
    },
    {
      "cell_type": "code",
      "source": [
        "out_printname1 = print_fullname(name='กาญจนา',surname='ประสาคุณ',ID='603021855-2') # มี output\n",
        "print(out_printname1)"
      ],
      "metadata": {
        "colab": {
          "base_uri": "https://localhost:8080/"
        },
        "id": "Ae6C6-DTWFOD",
        "outputId": "eceafc81-d6c0-431f-e483-cb0b0031a98b"
      },
      "execution_count": null,
      "outputs": [
        {
          "output_type": "stream",
          "name": "stdout",
          "text": [
            "ชื่อ กาญจนา นามสกุล ประสาคุณ รหัส 603021855-2\n"
          ]
        }
      ]
    },
    {
      "cell_type": "code",
      "source": [
        "out_printname1"
      ],
      "metadata": {
        "colab": {
          "base_uri": "https://localhost:8080/",
          "height": 35
        },
        "id": "yPtH94N0WtsE",
        "outputId": "32bee87e-2a66-4f6a-b32e-b436635d4319"
      },
      "execution_count": null,
      "outputs": [
        {
          "output_type": "execute_result",
          "data": {
            "text/plain": [
              "'ชื่อ กาญจนา นามสกุล ประสาคุณ รหัส 603021855-2'"
            ],
            "application/vnd.google.colaboratory.intrinsic+json": {
              "type": "string"
            }
          },
          "metadata": {},
          "execution_count": 43
        }
      ]
    },
    {
      "cell_type": "code",
      "source": [
        "out_printname2 = print_fullname2(name='กาญจนา',surname='ประสาคุณ',ID='603021855-2')  # ไม่มี output\n",
        "print(out_printname2)"
      ],
      "metadata": {
        "colab": {
          "base_uri": "https://localhost:8080/"
        },
        "id": "AbT5pKVYWRBn",
        "outputId": "8f464c29-0b50-4970-f3bf-ddc5a36cc454"
      },
      "execution_count": null,
      "outputs": [
        {
          "output_type": "stream",
          "name": "stdout",
          "text": [
            "ชื่อ กาญจนา นามสกุล ประสาคุณ รหัส 603021855-2\n",
            "None\n"
          ]
        }
      ]
    },
    {
      "cell_type": "code",
      "source": [
        "out_printname2"
      ],
      "metadata": {
        "id": "l_fW68dyXDw3"
      },
      "execution_count": null,
      "outputs": []
    },
    {
      "cell_type": "markdown",
      "metadata": {
        "id": "JF4RdyEBqPyl"
      },
      "source": [
        "### ฟังก์ชั่นไม่จำเป็นต้องมี input"
      ]
    },
    {
      "cell_type": "code",
      "metadata": {
        "id": "LNb_o_ZXo_gh"
      },
      "source": [
        "def Pi():\n",
        "    return 3.14159265359"
      ],
      "execution_count": null,
      "outputs": []
    },
    {
      "cell_type": "code",
      "metadata": {
        "colab": {
          "base_uri": "https://localhost:8080/"
        },
        "id": "htN6zLbFo_dr",
        "outputId": "4c171e52-1dc4-4e03-ae9a-01f55d738abe"
      },
      "source": [
        "Pi()*(2**2) # หาพื้นที่ของวงกลมที่มีรัศมีเท่ากับ Pi * r^2"
      ],
      "execution_count": null,
      "outputs": [
        {
          "output_type": "execute_result",
          "data": {
            "text/plain": [
              "12.56637061436"
            ]
          },
          "metadata": {},
          "execution_count": 47
        }
      ]
    },
    {
      "cell_type": "markdown",
      "metadata": {
        "id": "ywc0Ho-_rUTu"
      },
      "source": [
        "## เราสามารถกำหนดค่า default ให้กับ input ของฟังก์ชั่นได้"
      ]
    },
    {
      "cell_type": "markdown",
      "metadata": {
        "id": "y_74dHkjxS7f"
      },
      "source": [
        "input ของ function ใน python มีสองแบบ input ที่จำเป็นต้องใส่ กับ input ที่ไม่จำเป็นต้องใส่ (มีค่า default)\n",
        "\n",
        "เราต้องเรียง input ที่จำเป็นต้องใส่ขึ้นก่อน"
      ]
    },
    {
      "cell_type": "code",
      "metadata": {
        "id": "0Lrh-6mAo_bA"
      },
      "source": [
        "def print_2lines_default(name,surname,ID,grade='F'): # default  ถัาไม่ได้ทำอะไรจะเอาค่านี้มาใส่\n",
        "    st = f'ชื่อ {name} นามสกุล {surname} รหัส {ID}'\n",
        "    print (st)\n",
        "    st2=f'เกรดวิชา Data Viz >>> {grade}'\n",
        "    print(st2) # ไม่ return"
      ],
      "execution_count": null,
      "outputs": []
    },
    {
      "cell_type": "code",
      "metadata": {
        "colab": {
          "base_uri": "https://localhost:8080/"
        },
        "id": "ZH31VIjko_WP",
        "outputId": "5759b3a8-aa6a-4f2b-d648-2e489003aed7"
      },
      "source": [
        "print_2lines_default('ธันยาการต์','พวงมาลัย','613020551-8') # ไม่ได้ใส่เกรดเลย default ค่า F"
      ],
      "execution_count": null,
      "outputs": [
        {
          "output_type": "stream",
          "name": "stdout",
          "text": [
            "ชื่อ ธันยาการต์ นามสกุล พวงมาลัย รหัส 613020551-8\n",
            "เกรดวิชา Data Viz >>> F\n"
          ]
        }
      ]
    },
    {
      "cell_type": "code",
      "metadata": {
        "colab": {
          "base_uri": "https://localhost:8080/"
        },
        "id": "FKGr2Iyuo_S2",
        "outputId": "69025b25-a120-4f4b-b8b1-7ea047208bcc"
      },
      "source": [
        "print_2lines_default('ธันยาการต์','พวงมาลัย','613020551-8','A')"
      ],
      "execution_count": null,
      "outputs": [
        {
          "output_type": "stream",
          "name": "stdout",
          "text": [
            "ชื่อ ธันยาการต์ นามสกุล พวงมาลัย รหัส 613020551-8\n",
            "เกรดวิชา Data Viz >>> A\n"
          ]
        }
      ]
    },
    {
      "cell_type": "code",
      "source": [
        "print_2lines_default('ธันยาการต์','พวงมาลัย','613020551-8',grade = 'A')"
      ],
      "metadata": {
        "colab": {
          "base_uri": "https://localhost:8080/"
        },
        "id": "Au_P2Cm8ZDXL",
        "outputId": "a6f2c9e4-6416-4fe4-d77c-a642c5c96700"
      },
      "execution_count": null,
      "outputs": [
        {
          "output_type": "stream",
          "name": "stdout",
          "text": [
            "ชื่อ ธันยาการต์ นามสกุล พวงมาลัย รหัส 613020551-8\n",
            "เกรดวิชา Data Viz >>> A\n"
          ]
        }
      ]
    },
    {
      "cell_type": "code",
      "source": [
        "print_2lines_default('ธันยาการต์','พวงมาลัย') # ใส่ inout ไม่ครบ ไม่ออก"
      ],
      "metadata": {
        "colab": {
          "base_uri": "https://localhost:8080/",
          "height": 141
        },
        "id": "cLGa_pO1Zv1U",
        "outputId": "60cb6a48-5084-414f-cf0a-c195bc1d2cee"
      },
      "execution_count": null,
      "outputs": [
        {
          "output_type": "error",
          "ename": "TypeError",
          "evalue": "print_2lines_default() missing 1 required positional argument: 'ID'",
          "traceback": [
            "\u001b[0;31m---------------------------------------------------------------------------\u001b[0m",
            "\u001b[0;31mTypeError\u001b[0m                                 Traceback (most recent call last)",
            "\u001b[0;32m/tmp/ipython-input-53-2908973391.py\u001b[0m in \u001b[0;36m<cell line: 0>\u001b[0;34m()\u001b[0m\n\u001b[0;32m----> 1\u001b[0;31m \u001b[0mprint_2lines_default\u001b[0m\u001b[0;34m(\u001b[0m\u001b[0;34m'ธันยาการต์'\u001b[0m\u001b[0;34m,\u001b[0m\u001b[0;34m'พวงมาลัย'\u001b[0m\u001b[0;34m)\u001b[0m\u001b[0;34m\u001b[0m\u001b[0;34m\u001b[0m\u001b[0m\n\u001b[0m",
            "\u001b[0;31mTypeError\u001b[0m: print_2lines_default() missing 1 required positional argument: 'ID'"
          ]
        }
      ]
    },
    {
      "cell_type": "markdown",
      "source": [
        "# Quiz5"
      ],
      "metadata": {
        "id": "Alh7JMwDa1k1"
      }
    },
    {
      "cell_type": "markdown",
      "source": [
        "12:30:15,Wednesday - 13:41:07, Thursday\n",
        "\n",
        "12:53:15, Monday - 00:59:25, Tuesday\n",
        "\n",
        "16:06:09, Sunday - 11:11:11, Tuesday"
      ],
      "metadata": {
        "id": "TOyIh3JcazMK"
      }
    },
    {
      "cell_type": "code",
      "source": [
        "# prompt: เขียน โค้ด ฟังก์ชันอย่างง่ายและเข้าใจ คำนวณเวลาเป็น วินาที จากโจทย์ 12:30:15,Wednesday - 13:41:07, Thursday 12:53:15, Monday - 00:59:25, Tuesday 16:06:09, Sunday - 11:11:11, Tuesday\n",
        "\n",
        "def time_to_seconds(time_str):\n",
        "    h, m, s = map(int, time_str.split(':'))\n",
        "    return h * 3600 + m * 60 + s\n",
        "\n",
        "def day_to_seconds(day_str):\n",
        "    days = {'Monday': 0, 'Tuesday': 1, 'Wednesday': 2, 'Thursday': 3,\n",
        "            'Friday': 4, 'Saturday': 5, 'Sunday': 6}\n",
        "    return days[day_str] * 24 * 3600\n",
        "\n",
        "def calculate_time_difference_with_days(time_entry):\n",
        "\n",
        "    time1_str, time2_str = time_entry.split(' - ')\n",
        "    time1, day1 = time1_str.split(',')\n",
        "    time2, day2 = time2_str.split(',')\n",
        "\n",
        "    total_seconds1 = time_to_seconds(time1) + day_to_seconds(day1.strip())\n",
        "    total_seconds2 = time_to_seconds(time2) + day_to_seconds(day2.strip())\n",
        "\n",
        "    if total_seconds2 < total_seconds1:\n",
        "        total_seconds2 += 7 * 24 * 3600 # Add a week's worth of seconds\n",
        "    return total_seconds2 - total_seconds1\n",
        "\n",
        "# Test cases\n",
        "test_cases = [\n",
        "    '12:30:15,Wednesday - 13:41:07, Thursday',\n",
        "    '12:53:15, Monday - 00:59:25, Tuesday',\n",
        "    '16:06:09, Sunday - 11:11:11, Tuesday'\n",
        "]\n",
        "for case in test_cases:\n",
        "    difference_in_seconds = calculate_time_difference_with_days(case)\n",
        "    print(f\"Time difference for '{case}': {difference_in_seconds} seconds\")\n"
      ],
      "metadata": {
        "colab": {
          "base_uri": "https://localhost:8080/"
        },
        "id": "SEornvTUbgQZ",
        "outputId": "3ba446aa-48d6-43eb-ef3e-294b5647b53c"
      },
      "execution_count": null,
      "outputs": [
        {
          "output_type": "stream",
          "name": "stdout",
          "text": [
            "Time difference for '12:30:15,Wednesday - 13:41:07, Thursday': 90652 seconds\n",
            "Time difference for '12:53:15, Monday - 00:59:25, Tuesday': 43570 seconds\n",
            "Time difference for '16:06:09, Sunday - 11:11:11, Tuesday': 155102 seconds\n"
          ]
        }
      ]
    },
    {
      "cell_type": "markdown",
      "source": [
        "#Quiz6\n",
        "\n",
        "เขียนฟังก์ชันของ 2 มีการใช้ค่า defual ของ  input โดยถ้าวันที่กรอกเป็นวันเดียวกันให้ไม่ต้องกรอกเลยหรือกรอกแค่ 1 ตัว"
      ],
      "metadata": {
        "id": "qMuLrhkIfu7a"
      }
    },
    {
      "cell_type": "code",
      "source": [
        "# prompt: สร้าง function คำนวณ จำนวน วินาที ที่แตกต่างระหว่าง input hh:mm:ss, day of the week 2 ค่า\n",
        "\n",
        "from datetime import datetime, timedelta\n",
        "\n",
        "def time_difference_in_seconds(time_str1, weekday1, time_str2, weekday2=None):\n",
        "  \"\"\"\n",
        "  คำนวณความแตกต่างของเวลาในหน่วยวินาทีระหว่างสองเวลาและวันในสัปดาห์\n",
        "\n",
        "  Args:\n",
        "    time_str1: สตริงเวลาในรูปแบบ 'hh:mm:ss' สำหรับเวลาแรก\n",
        "    weekday1: วันในสัปดาห์สำหรับเวลาแรก (0=วันจันทร์, 6=วันอาทิตย์)\n",
        "    time_str2: สตริงเวลาในรูปแบบ 'hh:mm:ss' สำหรับเวลาที่สอง\n",
        "    weekday2: วันในสัปดาห์สำหรับเวลาที่สอง (0=วันจันทร์, 6=วันอาทิตย์)\n",
        "\n",
        "  Returns:\n",
        "    จำนวนวินาทีที่แตกต่างกัน\n",
        "  \"\"\"\n",
        "  day = {'Monday':0, 'Tuesday':1, 'Wednesday':2, 'Thursday':3, 'Friday':4, 'Saturday':5, 'Sunday':6}\n",
        "  # Mapping weekdays to a common reference point (e.g., seconds from the beginning of the week)\n",
        "  seconds_per_day = 24 * 3600\n",
        "\n",
        "  def parse_time_and_weekday(time_str, weekday):\n",
        "    h, m, s = map(int, time_str.split(':'))\n",
        "    # Calculate total seconds from the beginning of the week\n",
        "    total_seconds = weekday * seconds_per_day + h * 3600 + m * 60 + s\n",
        "    return total_seconds\n",
        "  if weekday2 is None:\n",
        "    weekday2 = weekday1\n",
        "  total_seconds1 = parse_time_and_weekday(time_str1, day[weekday1])\n",
        "  total_seconds2 = parse_time_and_weekday(time_str2, day[weekday2])\n",
        "\n",
        "  return abs(total_seconds1 - total_seconds2)\n",
        "\n",
        "# Example usage:\n",
        "time1 = \"10:00:00\"\n",
        "day1 = 'Tuesday'\n",
        "time2 = \"11:30:00\"\n",
        "day2 = 'Thursday'\n",
        "\n",
        "diff_seconds = time_difference_in_seconds(time1, day1, time2, day2)\n",
        "print(f\"ความแตกต่างของเวลาระหว่าง {time1} วัน {day1} และ {time2} วัน {day2} คือ {diff_seconds} วินาที\")\n",
        "\n",
        "time3 = \"18:00:00\"\n",
        "day3 = 'Sunday'\n",
        "time4 = \"18:00:10\"\n",
        "\n",
        "diff_seconds2 = time_difference_in_seconds(time3, day3, time4)\n",
        "print(f\"ความแตกต่างของเวลาระหว่าง {time3} วัน {day3} และ {time4} คือ {diff_seconds2} วินาที\")"
      ],
      "metadata": {
        "colab": {
          "base_uri": "https://localhost:8080/"
        },
        "id": "ZKfjJTNeQVd0",
        "outputId": "b9bf58f9-e86e-440e-82df-5c996660ee48"
      },
      "execution_count": 11,
      "outputs": [
        {
          "output_type": "stream",
          "name": "stdout",
          "text": [
            "ความแตกต่างของเวลาระหว่าง 10:00:00 วัน Tuesday และ 11:30:00 วัน Thursday คือ 178200 วินาที\n",
            "ความแตกต่างของเวลาระหว่าง 18:00:00 วัน Sunday และ 18:00:10 คือ 10 วินาที\n"
          ]
        }
      ]
    },
    {
      "cell_type": "code",
      "source": [],
      "metadata": {
        "id": "u6_ZC1tORjxR"
      },
      "execution_count": null,
      "outputs": []
    },
    {
      "cell_type": "markdown",
      "source": [
        "#inspect existing function\n",
        "\n",
        "- https://www.w3schools.com/python/ref_func_print.asp\n",
        "\n",
        "\n",
        "- https://scikit-learn.org/stable/modules/generated/sklearn.tree.DecisionTreeClassifier.html#sklearn.tree.DecisionTreeClassifier"
      ],
      "metadata": {
        "id": "kVgbNTiEj8li"
      }
    },
    {
      "cell_type": "code",
      "source": [
        "print('abc','def')"
      ],
      "metadata": {
        "colab": {
          "base_uri": "https://localhost:8080/"
        },
        "id": "GPEjdTrvkMy6",
        "outputId": "49080ad1-cd1d-473a-d133-1baf1437eeab"
      },
      "execution_count": null,
      "outputs": [
        {
          "output_type": "stream",
          "name": "stdout",
          "text": [
            "abc def\n"
          ]
        }
      ]
    },
    {
      "cell_type": "code",
      "source": [
        "print('abc','def',end='end')"
      ],
      "metadata": {
        "colab": {
          "base_uri": "https://localhost:8080/"
        },
        "id": "Go65ut3pkv_q",
        "outputId": "4cc81b54-3189-4d3b-d921-6229f241e95b"
      },
      "execution_count": null,
      "outputs": [
        {
          "output_type": "stream",
          "name": "stdout",
          "text": [
            "abc defend"
          ]
        }
      ]
    },
    {
      "cell_type": "markdown",
      "metadata": {
        "id": "UB5fTAr3bPqg"
      },
      "source": [
        "# LOOP การวนซ้ำ"
      ]
    },
    {
      "cell_type": "markdown",
      "metadata": {
        "id": "gpIwjDjg0gfJ"
      },
      "source": [
        "for เป็นคำที่ใช้บอก python ว่าเรากำลังเขียน loop\n",
        "โดย for จะวนดึงสมาชิกจาก ```listA``` มาทำ process ```do_something```"
      ]
    },
    {
      "cell_type": "markdown",
      "metadata": {
        "id": "6XS2wO4_bPqg"
      },
      "source": [
        "```python\n",
        "    for each_member in listA :\n",
        "        do_something\n",
        "```"
      ]
    },
    {
      "cell_type": "markdown",
      "metadata": {
        "id": "d7kQ2AEcbPqg"
      },
      "source": [
        "#### คำสั่ง for เป็นคำสั่งวนซ้ำที่ใช้ควบคุมการทำงานซ้ำๆ ในจำนวนรอบที่แน่นอน"
      ]
    },
    {
      "cell_type": "code",
      "metadata": {
        "colab": {
          "base_uri": "https://localhost:8080/"
        },
        "id": "NcT-s7TEbPqg",
        "outputId": "04da0304-2e55-434e-ca59-3826ed02243d"
      },
      "source": [
        "for i in [1,2,3] :\n",
        "    o = i**2\n",
        "    print (f'this member = {i} after process = {o}')"
      ],
      "execution_count": null,
      "outputs": [
        {
          "output_type": "stream",
          "name": "stdout",
          "text": [
            "this member = 1 after process = 1\n",
            "this member = 2 after process = 4\n",
            "this member = 3 after process = 9\n"
          ]
        }
      ]
    },
    {
      "cell_type": "markdown",
      "metadata": {
        "id": "YbnFaiU2bPqg"
      },
      "source": [
        "#### ตัวอย่างการใช้คำสั่ง for ในการวนซ้ำค่าของ i เมื่อ i คือ 'Thanapong' และคำสั่ง print(f'{i} -> /') เพื่อกำหนดให้ผลลัพธ์แสดงสัญลักษณ์ -> /  จากนั้นเพิ่มคำสั่ง print(' ') อีกครั้งเพื่อให้ผลลัพธ์มีการเว้นวรรค¶"
      ]
    },
    {
      "cell_type": "code",
      "metadata": {
        "id": "kstoI_CEbPqh",
        "outputId": "dbce5671-bb93-4780-d2ea-3bd4723bf633",
        "colab": {
          "base_uri": "https://localhost:8080/"
        }
      },
      "source": [
        "for i in 'Thanapong':\n",
        "    print(f'{i} -> / ' )"
      ],
      "execution_count": null,
      "outputs": [
        {
          "output_type": "stream",
          "name": "stdout",
          "text": [
            "T -> / \n",
            "h -> / \n",
            "a -> / \n",
            "n -> / \n",
            "a -> / \n",
            "p -> / \n",
            "o -> / \n",
            "n -> / \n",
            "g -> / \n"
          ]
        }
      ]
    },
    {
      "cell_type": "code",
      "source": [
        "for i in 'Thanapong':\n",
        "    print(i,end = '-> /\\n')"
      ],
      "metadata": {
        "colab": {
          "base_uri": "https://localhost:8080/"
        },
        "id": "HljLiFOm-Kdh",
        "outputId": "277327b1-143c-4abf-8676-c66e8796ab57"
      },
      "execution_count": null,
      "outputs": [
        {
          "output_type": "stream",
          "name": "stdout",
          "text": [
            "T-> /\n",
            "h-> /\n",
            "a-> /\n",
            "n-> /\n",
            "a-> /\n",
            "p-> /\n",
            "o-> /\n",
            "n-> /\n",
            "g-> /\n"
          ]
        }
      ]
    },
    {
      "cell_type": "code",
      "metadata": {
        "id": "mQmh0Ip-V8qR",
        "outputId": "e6cb694f-c2d5-4925-b779-1b5a683938ed",
        "colab": {
          "base_uri": "https://localhost:8080/"
        }
      },
      "source": [
        "for i in 'Thanapong':\n",
        "    print(f'{i} -> / ' ,end = '') #สั่งให้ print แบบ ไม่เว้นบรรทัด"
      ],
      "execution_count": null,
      "outputs": [
        {
          "output_type": "stream",
          "name": "stdout",
          "text": [
            "T -> / h -> / a -> / n -> / a -> / p -> / o -> / n -> / g -> / "
          ]
        }
      ]
    },
    {
      "cell_type": "markdown",
      "metadata": {
        "id": "3_I0IHOqXMIr"
      },
      "source": [
        "## สร้าง list ตัวเลขแบบอัตโนมัติ  range()"
      ]
    },
    {
      "cell_type": "code",
      "metadata": {
        "id": "ensAuLXBW-0P",
        "outputId": "6e1ee648-62e7-418a-b1b5-5a03d92a57a1",
        "colab": {
          "base_uri": "https://localhost:8080/"
        }
      },
      "source": [
        "range5_output = range(5) #0ถึงเลขrange()\n",
        "print(list(range5_output))"
      ],
      "execution_count": null,
      "outputs": [
        {
          "output_type": "stream",
          "name": "stdout",
          "text": [
            "[0, 1, 2, 3, 4]\n"
          ]
        }
      ]
    },
    {
      "cell_type": "code",
      "metadata": {
        "id": "r8JXggPKXrEx",
        "outputId": "63729251-f56d-4010-ac37-c862042e0282",
        "colab": {
          "base_uri": "https://localhost:8080/"
        },
        "collapsed": true
      },
      "source": [
        "for i in range(100):\n",
        "    print('งง',end=' ')"
      ],
      "execution_count": null,
      "outputs": [
        {
          "output_type": "stream",
          "name": "stdout",
          "text": [
            "งง งง งง งง งง งง งง งง งง งง งง งง งง งง งง งง งง งง งง งง งง งง งง งง งง งง งง งง งง งง งง งง งง งง งง งง งง งง งง งง งง งง งง งง งง งง งง งง งง งง งง งง งง งง งง งง งง งง งง งง งง งง งง งง งง งง งง งง งง งง งง งง งง งง งง งง งง งง งง งง งง งง งง งง งง งง งง งง งง งง งง งง งง งง งง งง งง งง งง งง "
          ]
        }
      ]
    },
    {
      "cell_type": "code",
      "metadata": {
        "id": "RLvhNqw8YpKa",
        "outputId": "62838eda-e073-4b5d-b51e-6db0e92b929c",
        "colab": {
          "base_uri": "https://localhost:8080/"
        }
      },
      "source": [
        "list(range(1,11)) #เริ่มต้นเป็นวงทึบ จบเป็นวงกลมโปร่ง เหมือน list slicing"
      ],
      "execution_count": null,
      "outputs": [
        {
          "output_type": "execute_result",
          "data": {
            "text/plain": [
              "[1, 2, 3, 4, 5, 6, 7, 8, 9, 10]"
            ]
          },
          "metadata": {},
          "execution_count": 11
        }
      ]
    },
    {
      "cell_type": "code",
      "metadata": {
        "id": "MqXQ9NLGcW-r",
        "outputId": "ab839a9f-525a-40d4-b7d1-4b8f0d4de3a7",
        "colab": {
          "base_uri": "https://localhost:8080/"
        }
      },
      "source": [
        "list(range(-3,20,4)) #-3 เริ่ม ถึง 20 Step 4"
      ],
      "execution_count": null,
      "outputs": [
        {
          "output_type": "execute_result",
          "data": {
            "text/plain": [
              "[-3, 1, 5, 9, 13, 17]"
            ]
          },
          "metadata": {},
          "execution_count": 28
        }
      ]
    },
    {
      "cell_type": "markdown",
      "source": [
        "## วนลูปโดยสนใจทั้งสมาขิกและลำดับ"
      ],
      "metadata": {
        "id": "9YGqjIZs_6gR"
      }
    },
    {
      "cell_type": "code",
      "source": [
        "index = 0\n",
        "for i in 'Thanapong' :\n",
        "    print(f'สมาชิก {i} เป็นลำดับที่ {index}')\n",
        "    index += 1"
      ],
      "metadata": {
        "colab": {
          "base_uri": "https://localhost:8080/"
        },
        "collapsed": true,
        "id": "j3kohTqyAWgI",
        "outputId": "1f6102a2-61ef-46bd-f6b8-de8fe214df47"
      },
      "execution_count": null,
      "outputs": [
        {
          "output_type": "stream",
          "name": "stdout",
          "text": [
            "สมาชิก T เป็นลำดับที่ 0\n",
            "สมาชิก h เป็นลำดับที่ 1\n",
            "สมาชิก a เป็นลำดับที่ 2\n",
            "สมาชิก n เป็นลำดับที่ 3\n",
            "สมาชิก a เป็นลำดับที่ 4\n",
            "สมาชิก p เป็นลำดับที่ 5\n",
            "สมาชิก o เป็นลำดับที่ 6\n",
            "สมาชิก n เป็นลำดับที่ 7\n",
            "สมาชิก g เป็นลำดับที่ 8\n"
          ]
        }
      ]
    },
    {
      "cell_type": "code",
      "source": [
        "for index,i in enumerate('Thanapong'): #enumerate ฟังก์ชัน\n",
        "    print(f'สมาชิก {i} เป็นลำดับที่ {index}')"
      ],
      "metadata": {
        "colab": {
          "base_uri": "https://localhost:8080/"
        },
        "collapsed": true,
        "id": "3ZklVv_aA9__",
        "outputId": "79519f6c-e9f7-4cdd-dde3-2db4c82edbab"
      },
      "execution_count": null,
      "outputs": [
        {
          "output_type": "stream",
          "name": "stdout",
          "text": [
            "สมาชิก T เป็นลำดับที่ 0\n",
            "สมาชิก h เป็นลำดับที่ 1\n",
            "สมาชิก a เป็นลำดับที่ 2\n",
            "สมาชิก n เป็นลำดับที่ 3\n",
            "สมาชิก a เป็นลำดับที่ 4\n",
            "สมาชิก p เป็นลำดับที่ 5\n",
            "สมาชิก o เป็นลำดับที่ 6\n",
            "สมาชิก n เป็นลำดับที่ 7\n",
            "สมาชิก g เป็นลำดับที่ 8\n"
          ]
        }
      ]
    },
    {
      "cell_type": "markdown",
      "metadata": {
        "id": "vPcR4tJebPqi"
      },
      "source": [
        "## loop in loop\n",
        "#### สามารถใช้ for loop ซ้อนกันสองรอบได้¶"
      ]
    },
    {
      "cell_type": "code",
      "metadata": {
        "id": "TKRcpd5DbPqi",
        "outputId": "c375e388-b8e1-4f95-ab78-3a42be54954d",
        "colab": {
          "base_uri": "https://localhost:8080/"
        },
        "collapsed": true
      },
      "source": [
        "for name1 in  range(2,5): #(2, 3, 4)\n",
        "    print(f'now name1 = {name1}')\n",
        "    for name2 in  range(1,13):\n",
        "        print('  ', name1,' x ',name2,' = ',name1*name2)\n",
        "    print('the inner loop is end')"
      ],
      "execution_count": null,
      "outputs": [
        {
          "output_type": "stream",
          "name": "stdout",
          "text": [
            "now name1 = 2\n",
            "   2  x  1  =  2\n",
            "   2  x  2  =  4\n",
            "   2  x  3  =  6\n",
            "   2  x  4  =  8\n",
            "   2  x  5  =  10\n",
            "   2  x  6  =  12\n",
            "   2  x  7  =  14\n",
            "   2  x  8  =  16\n",
            "   2  x  9  =  18\n",
            "   2  x  10  =  20\n",
            "   2  x  11  =  22\n",
            "   2  x  12  =  24\n",
            "the inner loop is end\n",
            "now name1 = 3\n",
            "   3  x  1  =  3\n",
            "   3  x  2  =  6\n",
            "   3  x  3  =  9\n",
            "   3  x  4  =  12\n",
            "   3  x  5  =  15\n",
            "   3  x  6  =  18\n",
            "   3  x  7  =  21\n",
            "   3  x  8  =  24\n",
            "   3  x  9  =  27\n",
            "   3  x  10  =  30\n",
            "   3  x  11  =  33\n",
            "   3  x  12  =  36\n",
            "the inner loop is end\n",
            "now name1 = 4\n",
            "   4  x  1  =  4\n",
            "   4  x  2  =  8\n",
            "   4  x  3  =  12\n",
            "   4  x  4  =  16\n",
            "   4  x  5  =  20\n",
            "   4  x  6  =  24\n",
            "   4  x  7  =  28\n",
            "   4  x  8  =  32\n",
            "   4  x  9  =  36\n",
            "   4  x  10  =  40\n",
            "   4  x  11  =  44\n",
            "   4  x  12  =  48\n",
            "the inner loop is end\n"
          ]
        }
      ]
    },
    {
      "cell_type": "markdown",
      "source": [
        "# Quiz 7 วนลูป แสดงค่าตัวเลขออกมาเป็นสามเหลี่ยม ตามตัวอย่างนี้\n",
        "\n",
        "ex:\n",
        "\n",
        "1\n",
        "\n",
        "2 4\n",
        "\n",
        "3 6 9\n",
        "\n",
        "4 8 12 16\n",
        "\n",
        "5 10 15 20 25"
      ],
      "metadata": {
        "id": "wygFsx5-CmeK"
      }
    },
    {
      "cell_type": "code",
      "source": [
        "# prompt: วนลูป แสดงค่าตัวเลขออกมาเป็นสามเหลี่ยม ตามตัวอย่างนี้\n",
        "# ex:\n",
        "# 1\n",
        "# 2 4\n",
        "# 3 6 9\n",
        "# 4 8 12 16\n",
        "# 5 10 15 20 25\n",
        "\n",
        "for i in range(1, 6):\n",
        "    for j in range(1, i + 1):\n",
        "        print(i * j, end=' ')\n",
        "    print('\\n')"
      ],
      "metadata": {
        "colab": {
          "base_uri": "https://localhost:8080/"
        },
        "id": "Pb8sF9gSCacK",
        "outputId": "2afba387-1467-4a27-f195-dfb02967a2ae"
      },
      "execution_count": null,
      "outputs": [
        {
          "output_type": "stream",
          "name": "stdout",
          "text": [
            "1 \n",
            "\n",
            "2 4 \n",
            "\n",
            "3 6 9 \n",
            "\n",
            "4 8 12 16 \n",
            "\n",
            "5 10 15 20 25 \n",
            "\n"
          ]
        }
      ]
    },
    {
      "cell_type": "markdown",
      "metadata": {
        "id": "7-FAZit8bPqi"
      },
      "source": [
        "## loop in function\n",
        "#### การวนลูปในฟังก์ชั่น¶"
      ]
    },
    {
      "cell_type": "code",
      "metadata": {
        "id": "S0r5yhbDbPqi"
      },
      "source": [
        "def print_feelings(I,friendS,feeling = 'คิดถึง'):\n",
        "    for friend in friendS:\n",
        "        print(f'{I} {feeling} {friend}')"
      ],
      "execution_count": null,
      "outputs": []
    },
    {
      "cell_type": "code",
      "metadata": {
        "id": "_oVKj4SRfGS6"
      },
      "source": [
        "list_friends = ['คุณหนูเบียร์','พ่อใหญ่เฟิร์ส','อ้ายสีหนุ่ม','จ่าหนึ่ง','บักโส']"
      ],
      "execution_count": null,
      "outputs": []
    },
    {
      "cell_type": "code",
      "metadata": {
        "id": "RepVZqu6bPqi",
        "outputId": "1d0f0bc9-d786-473d-dd1f-4b0644ca14e9",
        "colab": {
          "base_uri": "https://localhost:8080/"
        },
        "collapsed": true
      },
      "source": [
        "print_feelings('แจง',list_friends)"
      ],
      "execution_count": null,
      "outputs": [
        {
          "output_type": "stream",
          "name": "stdout",
          "text": [
            "แจง คิดถึง คุณหนูเบียร์\n",
            "แจง คิดถึง พ่อใหญ่เฟิร์ส\n",
            "แจง คิดถึง อ้ายสีหนุ่ม\n",
            "แจง คิดถึง จ่าหนึ่ง\n",
            "แจง คิดถึง บักโส\n"
          ]
        }
      ]
    },
    {
      "cell_type": "code",
      "source": [
        "print_feelings('แจง','พ่อใหญ่เฟิร์ส')"
      ],
      "metadata": {
        "collapsed": true,
        "colab": {
          "base_uri": "https://localhost:8080/"
        },
        "id": "HpfmKXZ5HLiD",
        "outputId": "e998001f-8117-4d12-bc5a-e7776439f582"
      },
      "execution_count": null,
      "outputs": [
        {
          "output_type": "stream",
          "name": "stdout",
          "text": [
            "แจง คิดถึง พ\n",
            "แจง คิดถึง ่\n",
            "แจง คิดถึง อ\n",
            "แจง คิดถึง ใ\n",
            "แจง คิดถึง ห\n",
            "แจง คิดถึง ญ\n",
            "แจง คิดถึง ่\n",
            "แจง คิดถึง เ\n",
            "แจง คิดถึง ฟ\n",
            "แจง คิดถึง ิ\n",
            "แจง คิดถึง ร\n",
            "แจง คิดถึง ์\n",
            "แจง คิดถึง ส\n"
          ]
        }
      ]
    },
    {
      "cell_type": "code",
      "metadata": {
        "id": "P20pDnVaf2vK",
        "outputId": "40111851-805a-435d-bd8b-0acef5b44b0f",
        "colab": {
          "base_uri": "https://localhost:8080/"
        },
        "collapsed": true
      },
      "source": [
        "print_feelings('เจมส์',list_friends,feeling='รัก')"
      ],
      "execution_count": null,
      "outputs": [
        {
          "output_type": "stream",
          "name": "stdout",
          "text": [
            "เจมส์ รัก คุณหนูเบียร์\n",
            "เจมส์ รัก พ่อใหญ่เฟิร์ส\n",
            "เจมส์ รัก อ้ายสีหนุ่ม\n",
            "เจมส์ รัก จ่าหนึ่ง\n",
            "เจมส์ รัก บักโส\n"
          ]
        }
      ]
    },
    {
      "cell_type": "code",
      "metadata": {
        "id": "SzHamL8JhKG4",
        "outputId": "dc8489cf-161d-46d4-9afe-4b9e117b2469",
        "colab": {
          "base_uri": "https://localhost:8080/"
        },
        "collapsed": true
      },
      "source": [
        "print_feelings('เจมส์',list_friends,'ซัง')"
      ],
      "execution_count": null,
      "outputs": [
        {
          "output_type": "stream",
          "name": "stdout",
          "text": [
            "เจมส์ ซัง คุณหนูเบียร์\n",
            "เจมส์ ซัง พ่อใหญ่เฟิร์ส\n",
            "เจมส์ ซัง อ้ายสีหนุ่ม\n",
            "เจมส์ ซัง จ่าหนึ่ง\n",
            "เจมส์ ซัง บักโส\n"
          ]
        }
      ]
    },
    {
      "cell_type": "markdown",
      "source": [
        "## Dictionary (Data Structure)\n",
        "\n",
        "โครงสร้างข้อมูลที่จัดเก็บข้อมูลโดยการอ้างอิงโดย text\n",
        "\n",
        "วงเล็บ ```{``` ```}``` Curly Brackets"
      ],
      "metadata": {
        "id": "VreW55vmVRcb"
      }
    },
    {
      "cell_type": "code",
      "source": [
        "Ex_dict_A = {'memberA':[1,2,3],'memberB':8,'memberC':'abc'}"
      ],
      "metadata": {
        "id": "i-oH98ilV1RV"
      },
      "execution_count": null,
      "outputs": []
    },
    {
      "cell_type": "code",
      "source": [
        "Ex_dict_A"
      ],
      "metadata": {
        "colab": {
          "base_uri": "https://localhost:8080/"
        },
        "id": "kIwdnWuqWr58",
        "outputId": "694d94ad-5ac6-47a8-e6d6-01f62d578d9b"
      },
      "execution_count": null,
      "outputs": [
        {
          "output_type": "execute_result",
          "data": {
            "text/plain": [
              "{'memberA': [1, 2, 3], 'memberB': 8, 'memberC': 'abc'}"
            ]
          },
          "metadata": {},
          "execution_count": 2
        }
      ]
    },
    {
      "cell_type": "code",
      "source": [
        "Ex_dict_A['memberA']"
      ],
      "metadata": {
        "colab": {
          "base_uri": "https://localhost:8080/"
        },
        "id": "J4yy6oaXW4he",
        "outputId": "153013bf-f9bd-4cd9-a182-bf13744d02c7"
      },
      "execution_count": null,
      "outputs": [
        {
          "output_type": "execute_result",
          "data": {
            "text/plain": [
              "[1, 2, 3]"
            ]
          },
          "metadata": {},
          "execution_count": 5
        }
      ]
    },
    {
      "cell_type": "code",
      "source": [
        "Ex_dict_A['memberA'][1]"
      ],
      "metadata": {
        "colab": {
          "base_uri": "https://localhost:8080/"
        },
        "id": "cZjtUbdnXZK-",
        "outputId": "0eaa0d49-1a2a-41d6-bb62-7c3252df977f"
      },
      "execution_count": null,
      "outputs": [
        {
          "output_type": "execute_result",
          "data": {
            "text/plain": [
              "2"
            ]
          },
          "metadata": {},
          "execution_count": 6
        }
      ]
    },
    {
      "cell_type": "markdown",
      "metadata": {
        "id": "vwK7RmRJbPqj"
      },
      "source": [
        "## looping in dict\n",
        "#### ทำการวนลูปในค่า dict โดยที่เรากำหนดตัว key และvalueขึ้นมา ได้ดังนี้\n"
      ]
    },
    {
      "cell_type": "code",
      "metadata": {
        "id": "HI0F-4HobPqj",
        "outputId": "712b82d4-099e-4674-d937-1ce6a53cec64",
        "colab": {
          "base_uri": "https://localhost:8080/"
        },
        "collapsed": true
      },
      "source": [
        "name_grade = {'พันทิพา' : 'B','ศุภนิตา' : 'C','ปนัดดา' : 'A','ทรงกลด' : 'F'}\n",
        "name_grade"
      ],
      "execution_count": null,
      "outputs": [
        {
          "output_type": "execute_result",
          "data": {
            "text/plain": [
              "{'พันทิพา': 'B', 'ศุภนิตา': 'C', 'ปนัดดา': 'A', 'ทรงกลด': 'F'}"
            ]
          },
          "metadata": {},
          "execution_count": 40
        }
      ]
    },
    {
      "cell_type": "code",
      "metadata": {
        "id": "jWf8aBmpbPqj",
        "outputId": "4ff578db-13c4-4d9b-8a40-003872f83ac4",
        "colab": {
          "base_uri": "https://localhost:8080/",
          "height": 35
        },
        "collapsed": true
      },
      "source": [
        "name_grade['ปนัดดา']"
      ],
      "execution_count": null,
      "outputs": [
        {
          "output_type": "execute_result",
          "data": {
            "text/plain": [
              "'A'"
            ],
            "application/vnd.google.colaboratory.intrinsic+json": {
              "type": "string"
            }
          },
          "metadata": {},
          "execution_count": 41
        }
      ]
    },
    {
      "cell_type": "code",
      "source": [
        "name_grade.keys()"
      ],
      "metadata": {
        "colab": {
          "base_uri": "https://localhost:8080/"
        },
        "id": "0tXZc6kgYPgm",
        "outputId": "28025207-f4d5-4682-dd7d-a56367956f01",
        "collapsed": true
      },
      "execution_count": null,
      "outputs": [
        {
          "output_type": "execute_result",
          "data": {
            "text/plain": [
              "dict_keys(['พันทิพา', 'ศุภนิตา', 'ปนัดดา', 'ทรงกลด'])"
            ]
          },
          "metadata": {},
          "execution_count": 42
        }
      ]
    },
    {
      "cell_type": "code",
      "source": [
        "name_grade.values()"
      ],
      "metadata": {
        "colab": {
          "base_uri": "https://localhost:8080/"
        },
        "id": "zEqstk33YRxp",
        "outputId": "2a104848-abae-4e72-d7d3-24cf5c53eadc",
        "collapsed": true
      },
      "execution_count": null,
      "outputs": [
        {
          "output_type": "execute_result",
          "data": {
            "text/plain": [
              "dict_values(['B', 'C', 'A', 'F'])"
            ]
          },
          "metadata": {},
          "execution_count": 43
        }
      ]
    },
    {
      "cell_type": "code",
      "metadata": {
        "scrolled": true,
        "id": "eDqhoebhbPqj",
        "outputId": "8bb342be-8496-4865-e7c1-ecc1ef694427",
        "colab": {
          "base_uri": "https://localhost:8080/"
        },
        "collapsed": true
      },
      "source": [
        "for i in name_grade.keys():\n",
        "    print(i)"
      ],
      "execution_count": null,
      "outputs": [
        {
          "output_type": "stream",
          "name": "stdout",
          "text": [
            "พันทิพา\n",
            "ศุภนิตา\n",
            "ปนัดดา\n",
            "ทรงกลด\n"
          ]
        }
      ]
    },
    {
      "cell_type": "code",
      "metadata": {
        "id": "Imvq4faObPqj",
        "outputId": "1d158cea-7eb6-4baa-c535-f30edeefdf11",
        "colab": {
          "base_uri": "https://localhost:8080/"
        }
      },
      "source": [
        "for i in name_grade.keys():\n",
        "    print(f'{i} ได้เกรด {name_grade[i]}')"
      ],
      "execution_count": null,
      "outputs": [
        {
          "output_type": "stream",
          "name": "stdout",
          "text": [
            "พันทิพา ได้เกรด B\n",
            "ศุภนิตา ได้เกรด C\n",
            "ปนัดดา ได้เกรด A\n",
            "ทรงกลด ได้เกรด F\n"
          ]
        }
      ]
    },
    {
      "cell_type": "markdown",
      "source": [
        "ไว้ใช้ตอน github โหลดไม่ขึ้น https://nbviewer.org/"
      ],
      "metadata": {
        "id": "YrZk-5gOKFEw"
      }
    },
    {
      "cell_type": "markdown",
      "source": [
        "#**HW3**"
      ],
      "metadata": {
        "id": "TLwEQo4ViDHM"
      }
    },
    {
      "cell_type": "markdown",
      "source": [
        "# **HW3** เพิ่ม loop เข้าไปใน Quiz6 โดยวนลูป คำนวณ วินาที ในโจทย์ ต่อไปนี้\n",
        "\n",
        "[\n",
        "    \n",
        "    (\"10:00:00\", \"Monday\", \"11:30:00\", 5400),  # Same day, later time\n",
        "    (\"11:30:00\", \"Monday\", \"10:00:00\", \"Monday\", 5400),  # Same day, earlier time\n",
        "    (\"23:00:00\", \"Sunday\", \"01:00:00\", , 7200),  # Cross midnight\n",
        "    (\"01:00:00\", \"Monday\", \"23:00:00\", \"Sunday\", 7200),  # Cross midnight (reverse)\n",
        "    (\"10:00:00\", \"Tuesday\", \"11:30:00\", \"Thursday\", 178200), # Multiple days difference\n",
        "    (\"11:30:00\", \"Thursday\", \"10:00:00\", \"Tuesday\", 178200), # Multiple days difference (reverse)\n",
        "    (\"12:00:00\", \"Monday\", \"12:00:00\", \"Monday\", 0),      # Same time, same day\n",
        "    (\"12:00:00\", \"Monday\", \"12:00:00\", \"Tuesday\", 24*3600), # Same time, next day\n",
        "    (\"00:00:00\", \"Monday\", \"23:59:59\", , 24*3600 - 1), # Almost 24 hours later\n",
        "    (\"23:59:59\", \"Sunday\", \"00:00:00\", \"Monday\", 1),       # One second difference across midnight\n",
        "]"
      ],
      "metadata": {
        "id": "ssKuQzI1SsxE"
      }
    },
    {
      "cell_type": "code",
      "source": [
        "# prompt เพิ่ม loop เข้าไปใน Quiz6 โดยวนลูป คำนวณ วินาที ในโจทย์ ต่อไปนี้ โดยเงื่อนไขจะอยู่ในโจทย์ และคำตอบจะคือตัวเลขสุดท้ายใน () ของโจทย์\n",
        "def time_difference_in_seconds(time_str1, weekday1, time_str2, weekday2=None):\n",
        "    day_map = {\n",
        "        'Monday': 0, 'Tuesday': 1, 'Wednesday': 2, 'Thursday': 3,\n",
        "        'Friday': 4, 'Saturday': 5, 'Sunday': 6\n",
        "    }\n",
        "    seconds_per_day = 86400  # 24 * 60 * 60\n",
        "\n",
        "    def convert_to_seconds(time_str, weekday):\n",
        "        h, m, s = map(int, time_str.split(':'))\n",
        "        total_seconds = day_map[weekday] * seconds_per_day + h * 3600 + m * 60 + s\n",
        "        return total_seconds\n",
        "\n",
        "    if weekday2 is None:\n",
        "        weekday2 = weekday1\n",
        "\n",
        "    sec1 = convert_to_seconds(time_str1, weekday1)\n",
        "    sec2 = convert_to_seconds(time_str2, weekday2)\n",
        "\n",
        "    diff = abs(sec2 - sec1)\n",
        "    min_diff = min(diff, 7 * seconds_per_day - diff)  # ต่างกันน้อยสุดในรอบสัปดาห์\n",
        "\n",
        "    return min_diff\n",
        "\n",
        "test_cases = [\n",
        "    (\"10:00:00\", \"Monday\", \"11:30:00\"),\n",
        "    (\"11:30:00\", \"Monday\", \"10:00:00\", \"Monday\"),\n",
        "    (\"23:00:00\", \"Sunday\", \"01:00:00\", \"Monday\"),\n",
        "    (\"01:00:00\", \"Monday\", \"23:00:00\", \"Sunday\"),\n",
        "    (\"10:00:00\", \"Tuesday\", \"11:30:00\", \"Thursday\"),\n",
        "    (\"11:30:00\", \"Thursday\", \"10:00:00\", \"Tuesday\"),\n",
        "    (\"12:00:00\", \"Monday\", \"12:00:00\", \"Monday\"),\n",
        "    (\"12:00:00\", \"Monday\", \"12:00:00\", \"Tuesday\"),\n",
        "    (\"00:00:00\", \"Monday\", \"23:59:59\", \"Monday\"),\n",
        "    (\"23:59:59\", \"Sunday\", \"00:00:00\", \"Monday\")\n",
        "]\n",
        "\n",
        "# แสดงผลลัพธ์ เพิ่ม loop\n",
        "for case in test_cases:\n",
        "    if len(case) == 3:\n",
        "        t1, d1, t2 = case\n",
        "        result = time_difference_in_seconds(t1, d1, t2)\n",
        "        print(f\"ต่างกันระหว่าง {t1} {d1} และ {t2} {d1} = {result} วินาที\")\n",
        "    else:\n",
        "        t1, d1, t2, d2 = case\n",
        "        result = time_difference_in_seconds(t1, d1, t2, d2)\n",
        "        print(f\"ต่างกันระหว่าง {t1} {d1} และ {t2} {d2} = {result} วินาที\")"
      ],
      "metadata": {
        "colab": {
          "base_uri": "https://localhost:8080/"
        },
        "id": "LZLBThqOS9oo",
        "outputId": "0f17186a-35fc-4ec0-80af-39412c761c73"
      },
      "execution_count": 40,
      "outputs": [
        {
          "output_type": "stream",
          "name": "stdout",
          "text": [
            "ต่างกันระหว่าง 10:00:00 Monday และ 11:30:00 Monday = 5400 วินาที\n",
            "ต่างกันระหว่าง 11:30:00 Monday และ 10:00:00 Monday = 5400 วินาที\n",
            "ต่างกันระหว่าง 23:00:00 Sunday และ 01:00:00 Monday = 7200 วินาที\n",
            "ต่างกันระหว่าง 01:00:00 Monday และ 23:00:00 Sunday = 7200 วินาที\n",
            "ต่างกันระหว่าง 10:00:00 Tuesday และ 11:30:00 Thursday = 178200 วินาที\n",
            "ต่างกันระหว่าง 11:30:00 Thursday และ 10:00:00 Tuesday = 178200 วินาที\n",
            "ต่างกันระหว่าง 12:00:00 Monday และ 12:00:00 Monday = 0 วินาที\n",
            "ต่างกันระหว่าง 12:00:00 Monday และ 12:00:00 Tuesday = 86400 วินาที\n",
            "ต่างกันระหว่าง 00:00:00 Monday และ 23:59:59 Monday = 86399 วินาที\n",
            "ต่างกันระหว่าง 23:59:59 Sunday และ 00:00:00 Monday = 1 วินาที\n"
          ]
        }
      ]
    },
    {
      "cell_type": "markdown",
      "source": [
        "อธิบายHW3"
      ],
      "metadata": {
        "id": "AdZwL8YhVn-_"
      }
    },
    {
      "cell_type": "markdown",
      "source": [
        "ถ้าคุณอยากวัด \"ความต่างน้อยที่สุดของสองช่วงเวลา\" (ไม่สนว่าจะเดินหน้า/ถอยหลัง หรือวันไหน)\n",
        "ให้ใช้สูตร min(diff, 604800 - diff) ซึ่งคือการหา \"ส่วนที่สั้นที่สุดในหนึ่งสัปดาห์\""
      ],
      "metadata": {
        "id": "IbOnX7LnV2lS"
      }
    },
    {
      "cell_type": "markdown",
      "source": [
        "![image.png](data:image/png;base64,iVBORw0KGgoAAAANSUhEUgAAAvoAAAHDCAYAAABVgr4tAAAAAXNSR0IArs4c6QAAAARnQU1BAACxjwv8YQUAAAAJcEhZcwAAEnQAABJ0Ad5mH3gAAIRrSURBVHhe7d17XFR1/j/wF2rGdRAxYRASLZHwBlKZpbiaVojbl9xcYLefS65IN9bMSutrGd8uWunSbSvEkq3dBnJV1kQsNeNieAPGCzSCJgYyI3KRywBecH5/zJzDzJkBBkWE8fV8PHhscz6fc+acM2fc1/mc9zljp9PpdCAiIiIiIpvSTzqBiIiIiIj6PgZ9IiIiIiIbxKBPRERERGSDGPSJiIiIiGwQgz4RERERkQ1i0CciIiIiskEM+kRERERENohBn4iIiIjIBjHoExERERHZIAZ9IiIiIiIbxKB/E9DpdMjKysIXX3yBhoYGaTMRERER2SAG/ZtAWVkZ1q5di5KSEvzzn//EpUuX8Le//Q1BQUEoKyuTdiciIiIiG2Cn0+l00olkW3Q6Hb777js8++yzeOKJJ3D06FG0tLTgyy+/xO233y7tTkREREQ2gCP6NwE7OzuMHz8egwcPhkqlQlxcHL7//nuGfCIiIiIbxqB/Ax05cgQTJkyAu7s7kpKSIFxcyc3NxfDhw3HgwAHpLFfN19cXhw8fxtChQzF//nwcPXpU2oWIiIiIbAiD/g20bt06hISEIC0tDcnJyTh37hzq6+uxatUqTJo0CePGjZPO0iUFBQUIDQ3FoEGDIJPJ8Mgjj0ClUkm7EREREZENYtC/gWQyGf75z38iLCwMFy5cQHFxMSIiInD27FmsXbsWDg4O0lms9t///hePPPIIIiIicO7cOVRXV+P3v/89Dh8+LO1KRERERDaoV96M21p+Av2975ROtjm1tbV48cUXsWnTJly5cgVyuRxPP/00/vrXv8LFxUXa3Wo1NTWYM2cOjh07Jm0CADg4OOD7779HYGCgtImIiIiIbESvC/oXj+XiwqY1uHXIEAycvwpwGSztQkREREREnehVpTuXVYdwYdMa9GvR4uLp33Ah+TWgqV7arUuOHDmCu+++GzKZDH/5y19w9uxZk/aMjAzIZDLIZDJkZGQAAC5duoR169ZhzJgxYpvxX2xsbJf6ZWZmYvTo0ZDJZPjrX/+K+vq2bbp8+TL+7//+DzKZDDNnzsSZM2fENgDQaDR49dVXcccdd4jL9fT0xLx583Do0CHxBl5ItjUsLMxsWQkJCZDJZPDw8IBSqQQMdfwjRozAH/7wB2i1WpP+RERERNR39Zqgf1l1CM3fvot+LVroWu2AVjtcPFmKC+teBZqv7tdcL1++jPfffx+zZ89GdnY2fvzxR7zyyiu4fPmytKtIp9Ph3XffxYsvvtjhj0lZ26+pqQlr167F888/j++++w5btmzB22+/LQb07Oxs/P3vfwcAHDhwAF999ZU4b15eHu655x588sknOHfunMkyv//+e8yYMQMffvghdDqd2bYeOXIEL730ElpaWsT5LPnpp59QXV2NAwcOoLS0VNpMRERERH1Urwj6l08cRst/1qBfUwN0l+2Ay3bi/144fhoXPlsBNDVKZ7PKLbfcYvJ63759qKqqMplm7Ny5c/j2228BAHfffTd++eUX1NfXm/wlJiZa3c+So0ePoqmpCc3Nzfjoo4/w3HPPwcvLCwDEsF1fX4+XXnoJdXV16NevH9577z1oNBrU1tZix44d8PX1BQC89dZbOHjwIGBhW5VKJc6fP28yTep3v/sd3N3dce+994rLJCIiIqK+r1cE/brUZNg11kHX2g9o7SeO6OsMfy2FpWhWJEln69SAAQMQHx+PPXv2YOrUqairq5N2MVNRUSGW9xw6dAh33XUXZDIZRo8ejddffx0NDfqrC9b2c3R0xFtvvYXPP/8cv//9702uJuzduxcnT57E73//e/TrZ/pRnD59WnwU5sKFCxEbGwtHR0f0798f999/Pz755BMMGDAAFy9eRFZW1lVtKwAEBQXh1KlT2LRpE5ycnKTNRERERNRH9Yqg7zJvERoahhqF+36GP33gh5snHKJipLNZxcfHB9nZ2YiKipI2dYlarcYHH3yAxYsXd1j6Y6nf+PHj8fPPP2PKlCliv6amJqxbtw4PPfQQfHx8jJag19raitbWVgCAp6cnKioqMHPmTMhkMjz33HMYNmwYPD09AQAlJSVAN24rEREREfV9vSLoD/S7C+7L4qG9MNRkNB+t/YAhw+C6JhFwdJbOdl0EBgbi7NmzJiU4Go0GjzzyCGBU+mNtv/bk5OQgJycHf/zjH81G8wHgtttug5ubGwDgl19+QUJCAoYNG4b8/Hzk5OQgOztbOgsRERERkcg8Yd4gt9zuC/f/fRNNVzzF+nzIfeH67qfSrj3qzJkzmDt3Lnbs2CFtMmFtPwCoq6vDmjVrMHfuXEycOFHaDABwd3fH2LFjAQAnTpwweYLOgAEDcOuttxr17lhJSQliY2MRHx8vTrty5YpJHyIiIiKyLb0m6APAAC9v3PbG22ge4Ak739FwfesDaZce98EHH8DDwwP5+fkd3qxqbT8YbsY9ceIEFi5ciAEDBkibAQD29vZ44IEHAMP9AGFhYdixYwcmTpyIkSNH4r777pPOYqalpQWvvvoqgoODoVAocOutt2L37t2IjY3FJ598gsuXL/PxmkREREQ2qlcFfQDoP3QoPD9LhOz1d6VNVy02NhYKhQIAUF5eDj8/P/GZ9BEREdLuHfL09ISjo6N0spnO+kVHR2PChAnSySb8/f0BAGfPnsUzzzyD5uZm/PnPf0ZycjIcHByk3c1UVVXhP//5D37/+98jJSUFQ4YMEdvq6+tx+fJlPl6TiIiIyEb1uqDf2zz//PM4c+YMJk6ciNtuuw3r1q2DTCaTdrO6HwxlOdHR0bCzs5M2tcvFxQUbNmzAp59+2uEJhLF+/frhs88+w7/+9S+EhobimWeewaxZs/Df//4Xr7/+Ouzt7fl4TSIiIiIbZacz/mlVIiIiIiKyCRzRJyIiIiKyQQz6REREREQ2iEGfiIiIiMgGMegTEREREdkgBn0iIiIiIhvEoE9EREREZIMY9ImIiIiIbBCDPhERERGRDWLQJyIiIiKyQQz6REREREQ2iEGfiIiIiMgGMegTEREREdkgBn0iIiIiIhvEoE9EREREZIPsdDqdTjrxRtDpdGhtbQUAtLa2ws7OTtqFiIiIiKjP0el06N+/PwCgf//+PZZzb3jQFwL+lStXpE1ERERERDanX79+PRL4b2jQb21tFUfxiYiIiIhuJv379xdH+q+HGxb0L168KJ1ERERERHTTGThwoHRSt7ghN+My5BMRERER6V2vbNzjQf96bQgRERERUV91PTJyjwZ91uMTEREREVnW3Vm5x4K+8eMziYiIiIjIVGtrK7rz9tkeC/oM+UREREREHevOzNwjQV+n0/E5+UREREREnbhy5Uq3jer3SNDvzjMTIiIiIiJb1l3ZuUeCPhERERER9awe+cGsCxcuXPef+CUiIiK6WZ0/fx7r1q0zyVsXLlzA7bffjvnz55v0NdbS0oIPP/wQNTU1eOWVV5CTkwMAmDNnjrRrr7V582Y89thjJtve0tKC+vp6DB061KTv1UhKSsKgQYOgVCoxadIk/PLLLwCAxYsXw97eXtq9W+h0Otx6663SyV3WI0H/ejwXlIiIiIj0UlJSMGHCBNx1110m0//xj3/g8ccfh4eHh8l0gRD0S0pKAADh4eF9KuQrFArs3r0b48aNQ1xcHPr164eMjAycOXMGbm5uOHfuHJ566inpbF2Sn5+P5ORkLFy4EPv374e9vT1qamrw6KOPYsSIEdLu3aY7fi3X5kp3WlpakJSUhPPnzwOGD2fbtm3SbkRERER9nkajwdatW3H8+HEcPnwYW7duxXfffYeWlhYAgKenJ5qbm6Wziezt7bFs2TKsX78e69ev71MhHwDmzp2LO++8EwsWLEC/fv2wdetWHD16FAMHDsTcuXPh4uICjUYjna1LJk6ciI8++gh+fn6oqam5bqP414PNjei3tLTg66+/xrx58zBo0CDk5+ejoqKizx24RERERJ1ZvXo1wsLCMHbsWNjZ2aG1tRVKpRL79u3Ds88+i02bNiE4OBi+vr7SWbFt2zakpaUBAEaNGiWWonQ0ym88DwBMmjQJMTExgKHEZf/+/WLbM888g4kTJwKG0qJVq1ahurrarO1aXb58GQMGDMCWLVtQV1eH6OhobNq0CXV1daitrcWzzz5rFs7Pnz+PxMRExMbGora2Flu3bkVsbGyn2w9D1kxMTBRH9E+dOoWEhAQ0NTUhPDwcY8aMMVne1bopRvRPnTqFr7/+GklJSVi4cCH+9re/4dSpU8jPz0dSUpLYLz8/H59//jk+/PBD7N+/Hy+++CLy8/MBALW1tVi2bBkWLlxoNs/ChQuxcOFCLFu2zOQqwNdff21xHiIiIqLe4pZbbsG4cePE+vT+/fsjODhYHNHX6XQW75PMz89HYWEhPvnkE6xfvx6DBw/Grl27AABff/01xowZg/Xr12PNmjU4dOgQTp06BRhq94XR/08++QQ1NTVi3oqJiRHb/vd//xdbt24Vs9XGjRsREREhtmVnZ4vreK2EkK/RaPCXv/wFMIz0nzhxApMnT+5y2N61a5fJ9hcWForbYcmuXbvQ1NSEhx9+GCdPnuy27eoOvT7oA8DBgwcRHByM9evXIzo6Gt9++y3uuOMOwHBGBgCFhYV4+OGHsXjxYkyaNAlr1qwRzxSPHTuGV155BZ988gmamppw6tQpnDp1Clu3bsWaNWuwfv16TJ06FRs3bhTf09I8RERERH2JWq2Gs7OzdDIqKiowZswYcWDzjjvugFqtRktLC5qamtDc3IyFCxdi48aNGDZsGGprawHDiL4wQNrS0oIxY8agoqICMBpATUpKglwuh5ubG2pra9HS0oKamhp8+umnyM/Ph5ubG1paWrotECuVSmg0GixatAh2dna4cuUKNmzYgDlz5uD++++Xdu+UWq1GWloatm3bBnt7e9jb24vbb4lcLoejoyMAwNHRscsnFtdTnwj699xzjxjaR44cCRjOUOVyOX799VecP38eLS0tkMvlkjn1pk6dikGDBsHe3h7jxo0DDCcGd999NwYNGgQAmDJlCmC4HNPePERERES9SXsV2LW1tXj//ffh7e0Nd3d3aTO8vLyQlZWFo0ePmky3t7eHo6Mj7rjjDkyaNAk1NTVoamoS29VqNZ555hk89dRT+O6770zmFQK/lL29PcaMGYPw8PBuK9cx9vPPP+OJJ55A//79ceXKFXzxxRcICAi4qpAPAMHBwZg0aZLVZd9z5szBe++9h4qKCsycOVPafEP1iaDfnjFjxqCwsBC//vor5HJ5rzqDIiIiIrreLJXlAICrqyteeuklPPbYY9ImAICbmxsAYMmSJXj33XfFgU8YRqizs7NRUlKCP/7xj+JotfHIfGFhIdzc3HDw4EFxPhjq2YWafWNqtRpeXl7Syd2isbERLi4uqKioQGJiIsaPH4/77rtP2s1MTU0NXn/9dZw6dQonT57Eyy+/jFOnTqGioqLdwWNBS0sL3n777V7/wJc+EfRPnjwplujk5ORg8ODBGDRoEORyOVpaWpCdnY0xY8ZIZ+vQmDFjcOjQIZPlwnDWSURERNQX+Pr64uuvv8bWrVvFP+EJMR1xc3ODu7u7GPiNeXl54eTJk3j66adNHh8pjMwLZs6cKZ4ECNLS0rBw4UI899xzOHnypEnb9aLVarFq1Sp8//33ePDBBzFp0iRpFzP29vYYPHgwYDixGTZsmLRLu6T7AYY6/aNHj+Ltt9/G22+/3W1lSdeq1z91R6ilr6ioQHV1tcld4TDUiqnVapOzR+GO8GeeeQYwXEoSLr/8+OOPGDFiBEaMGNHu3ebSJ/UYz0NERETUm9TW1qKyslJ8LZfLIZPJTPpQ39MdT93pE0E/JycH/+///T9pE2B4lFNwcPB1qfkiIiIiIroRuiPo94nSHUuEO7th+CEDIiIiIiJq0+tH9ImIiIiIbjY39Yg+ERERERG1j0GfiIiIiMgGMegTEREREdkgBn0iIiIiIhvEoE9EREREZIMY9ImIiIiIbBCDPhERERGRDWLQJyIiIiKyQQz6REREREQ2iEGfiIiIiMgGMegTEREREdkgBn0iIiIiIhvEoE9EREREZIMY9ImIiIiIbBCDPhERERGRDWLQJyIiIiKyQQz6REREREQ2iEGfiIiIiMgGMegTEREREdkgBn0iIiIiIhvEoE9EREREZIMY9ImIiIiIbBCDPhERERGRDWLQJyIiIiKyQQz6REREREQ2iEGfiIiIiMgGMegTEREREdkgBn0iIiIiIhvEoE9EREREZIMY9ImIiIiIbFCfDfqrVq+FIuU/ZtOi/rwA1TU1JtMB4HhxCeY8+kdMmx6KOY/+EceLS8S25uZmLHlhOaZND8W06aFmy+0pLbUlKEgcjfOnvpc2dcnPufux5IXlaG5uljbRVTheXIIVr7/J/UlERER9Sp8N+l3R3NyMzz//Aq++shSZezKwbeu3GO03SmxP+286hg69DZl7MpC5JwNRkY+bzN+XHC8uwccff46nnvorHBwcpM3dqrecIHWH6poaRP15AaZND8XPuftN2kb7jcKYgLvwwYefmkwnIiIi6s1sKui/snwpFP/+Eu6DB5tMb2puhlbbBHd30+mC0tLT8PUdLp3c5wgnNHFxT5mcyFwvaf9Nx7333o3MPRlYl/gRtm5NN7lS0lccLy7Bc88tRdxzsfDykkubAQDh/xOGyspzZicBRERERL1Vnwr6q1avFUePd3y/S5xuXJZjXLIijNLO/cOfcby4BIti/4Zp00OxavVak+Xt+H4XPk/8AtOmh7Zb+tOdilJDse99e/FPU5AotvUf6Iz6sr1iW1FqqNh2/tT3OPDBYIttAFCgPAIACAocbzIdkn0nLV0y3n+WRrSN5zXeP1GRj4tXP2738Yanpweqq6/vvpOuq/BZCozXVVq+JJ1XuAIx2m8UFN9swOjR7Z8cOTg4YN68x7Bx4xaW8BAREVGfYKfT6XTSid3t4sWL0kldJgS6V5YvFV/7+g43KbP5OXc/Nm7cgnfeXmlStlJdU4NXXnkDS5fGWRzptrSsjjQ3N+PV/41HfsFhk+mPPDxTXD9rnT/1Pcp/fhuj525Ba0sNCr+ZgVsch+KuyB/Q2lKDX76dgxEPfYRBIx5GUWooBvuFwzMoVroYABCDq3Q7jheX4Ot/peB/X3nRrJynuqYGb731HlaseBnugwebvV61ei0qK8+Z7VOp48UlWLv2Y6xa9YbZFZXutGr1WkybNgX3T54kbTLbfuPXx4tLsPTF/8Wrryy1OC8M++K5uBcR91ysxT6dHUdERERE3WXgwIHSSV3WJ0b0q2tqcOrUacyd+6i06YZwcHBAwt9XizX9wp+1Ib901/PiqLzqP/+DC+dPobVFPxLeb4Ajbv/dO7jFwR32bqNw66CRaDlfCgBwdB+N0l2LzUbyBaWlpzF8uI90MoYMccfJk6cwL+IvZqU1x4+XIL/gMOb+4c+YNj0Uc//wZ5Sc+BVVVdXifu+s3r+6pgZvxK9CdPSfrQr50tr+rlxF8fUdjldefcNsJL+5uRkHDhwSr8xMmx6KzxO/QGnpaQBAfv5hPHD/JIsB3lqODg4Y6nGbdDIRERFRr9Qngn5vIw2q7ZWRWHL+1PeoPr4J/o//F/e91AL/x/+LfgMcpd0s8p35Ae57qQWD/cKx7317HNkQjEvN1dJuZtwHD4bi319iY+o/8fnn+iBsXJ7zyMMzTU5YpDcrd6SzUXBLpCdKlu6raE9U5OPI3JOBadOmmJXnODk7YV3iR1d18kVERERka/pE0Hd0cICTkyPy8/WlMoqU/5jU6Pc0aVDtSqgURuftB40EAFQc+ABXLjdJeumdP/U9Lpz/FYN8Z5hM9wyKReDCowAgXgmAYbT79Okyo56mhPV+KvavYj9398HY+/N+s7p8GE4QRowYjs2bt0qbAEO5zl+in+pSyO8u90+ehM2b/g0YbrZ2cHCAk6MjPv/8C4s19BMnTsCRI8fMrmh0RVNzM7SNWgwZ4i5tIiIiIup1+kyNvlBj3dDQgEcenik+JScq8nH8nLsfr7z6hkn/iUETxLryzmqru1qjfy0uNVfjl5SH0FRVCABwG/UoLtSehF94CgCg8JsZuNR0DgDQ7xZH+P2PAoNGPGw2HwD4zvzQpF6/vXsUpPvHeN901i69H8HLS45PPl4j1u9LT7iky+5O0nUBgFXvvCGeZHTWLt3Op2L/iqjIx8WrEhUVarHNxcUFa9e8bXK8tLd/iYiIiLpbd9To95mgT50Tgu68eY/1+Ai7reO+JSIiop7UHUG/T5TukHUcHBzw1FN/xccff35NJSpkTvhRNYZ8IiIi6isY9G3MaL9RiIt7qt26euq648UlKCz6Bc8vfkbaRERERNRrsXSHiIiIiKiXYekOERERERFZxKBPRERERGSDGPSJiIiIiGwQgz4RERERkQ3qkaBvZ2cnnURERERERBZ0V3Zm0CciIiIi6kW6Kzv3SNAnIiIiIqKe1SNBv1+/HnkbIiIiIqI+r7uyc/cspRP9+vXrtksQRERERES2ys7Orm8FfXTjmQkRERERka3qzszcfUvqRP/+/TmqT0RERETUDjs7O/Tv3186+ar1WNCHIewTEREREZG57s7KPRr0+/Xr162XI4iIiIiIbMH1yMnduzQrDBgwoNs3goiIiIior+rXrx8GDBggnXzNbkjiZtgnIiIiIrp+IR8A7HQ6nU46sadcuXIFra2tuIGrQERERETU44Qbb6/n4PcNDfqC1tZWXLlyhYGfiIiIiGya8Jz87r7x1pJeEfQFV65cwZUrVwAAOp2OwZ+IiIiI+jQ7OzvxEfPX44bbjvSqoE9ERERERN2j504piIiIiIioxzDoExERERHZIAZ9IiIiIiIbxKBPRERERGSDGPSJiIiIiGwQgz4RERERkQ1i0CciIiIiskEM+kRERERENohBn4iIiIjIBjHoExERERHZIAZ9IiIiIiIbxKBPRERERGSDGPSJiIiIiGwQgz4RERERkQ1i0CciIiIiskEM+kRERERENohBn4iIiIjIBjHoExERERHZoB4N+rGxsZDJZCZ/GRkZJn0SEhJM2mfPng2tVmtVe0ZGhsXlKpVKeHh4ICAgABqNRlyOh4cHlEql2M/SdOH9pH2F9xLeX6vVYvbs2SbrlpCQYLRky+snLD82NhYAkJOTg9tuuw0ff/yxybxERERERF3RI0FfCMEKhQLx8fGor69HfX09oqKiEBERIYbcjIwMqFQqsT0rKwt5eXmYN28etFptp+1paWlITU1FfHw8li5dKoZ6KWE533//PR5++GExdAvTDx8+jM8++wznzp3DgQMHkJWVhfDwcLz66qsmJx3GXnjhBcTFxYnrFh8fj5UrV4phX6PRYOnSpYiPj0dWVhZ2794tXQQRERERUbfpkaCflZWFnJwcTJkyBYsWLRKnx8fHw9vbG9nZ2dBoNAgNDUViYqLY7unpCXd3d+Tl5aGkpKTT9qeffhrR0dFYuXKl2MeSoKAgZGdnIyQkBM3NzeL00NBQAICfnx/Cw8Nx2223Yf78+QgJCYFCoTBagrnExERxfgDw9/cHAOzcudPk5GDlypUICQnBgw8+KE4zNmXKFJw7dw5xcXHSJiIiIiIiq/VI0De2fft2yGQyBAQE4OzZswCA6urqdkffuyIwMBCHDx+Gt7e3tMmEp6cnioqKEBUVZTI9ISFBDPRpaWmAIfxnZWXBwcHBpO/VcnBwQFZWlslJARERERFRd+uRoC+Xy+Hg4IC6ujps2LABWVlZiImJwaFDh6Rdb5iMjAwkJSUhNTUVDg4OKCsra7dM52p4enrim2++AQA8/PDDZvcGEBERERF1px4J+kKJzdGjR5GTk4OQkBAkJSXh7rvvlnYVKZVKTJgwAeXl5dKmdhnPU15eDj8/P7ObfS2pqKjA0qVLsXbtWsjlcpO2jIwMscQnJycHI0eOvKqQrtFo8Kc//QkA8P333yMwMFDahYiIiIio2/RY0J86dSoAICoqCvX19SgqKoKHh4e0q2jPnj1ITk5GamqqtKldn332GZKTk8Xa/ylTpiAiIsKsFl9qyZIliImJMSunaWpqwldffYWsrCxERUVh3LhxuPPOOxESEoKIiAiTvt2FT90hIiIiou7QI0HfmHCTamemT5+O6OhoREREYPny5VaNgIeHhyMiIgIrV65ETEwMtm/fLj7dpyPSm4QFjo6OuPfee8WbcVesWIG9e/dCrVZjypQp0u5WaW5uRkhIiPiYzc5uHCYiIiIiuhp2Op1OJ51IRERERER9W4+P6BMRERER0fXHoE9EREREZIMY9ImIiIiIbBCDPhERERGRDWLQJyIiIiKyQQz6REREREQ2iEGfiIiIiMgGMegTEREREdkgBn0iIiIiIhvEoE9EREREZIMY9G3Il19+iW+//VY6mfo4pVKJgIAAKJVKKJVKREVFQavVSrsRERERmWDQtxE6nQ4qlQoTJkyQNpENqK6uxnfffYdnn30WCQkJcHJyknYhIiIiMsGgbyNqampQV1cHDw8PaVOPe/3115GbmyudTFdp1KhRCA4ORm5uLn744Qd4enpKuxARERGZYdC/Ac6ePYv/+7//w9q1a9HU1AQA2LdvH9555x3odDppd4vOnDmDv/zlL5DJZBg9ejT+85//wNvbG4MGDUJzczM+/PBDeHh4wN3dHUlJSVYvt6uM32vQoEFYtWoVamtr4efnJ+1KVyEhIQH33HMPvvzyS2zfvh0NDQ2IjY1l6Q4RERF1yiaCfkJCAjIyMqSTu8XWrVvx5ZdfSidftcuXL+Ptt9/GtGnTUF5ejuPHj2P16tXYsGEDnnvuOdjZ2UlnMVNWVoZVq1Zh5cqVqK2txZdffonXX38do0ePxqVLl7Bq1Sr4+/ujvLwcKpUKP/zwAw4fPixdzDWTvldJSQl++uknnD9/Hq6urtLuPSIjIwMJCQnSyX2SUqnEmTNn8M0332DNmjXQaDSYMWMGwsPDWbpDREREnbKJoH89HTp0CHfddZd08lUbMGAAAgMDMXfuXHzxxRdYuHAh/Pz88Omnn0Imk0m7m7l06RJWrFiBr776CoGBgXBzc0NoaCjs7e0xYcIEbN68GR988AHmzZsHd3d33HHHHfj++++hVquli7pmlt4rNzcX06dPx4ABA6TdqYsCAwPR0NCAkJAQrFu3DhMmTMA333yD0NBQaVciIiIiM3a661XTQUS9SmxsLAAgMTFR2kREREQ2qEdG9DUaDQICAhAQEACNRiNOj42NhUwmE8tutFotZs+eDZlMBplMZtYfhtIMod1SH2m7tWUcJ06cwNy5c/H888/jP//5DyZMmIBNmzaJte0qlQqPP/44Bg0aBJlMhr/+9a+or683WcalS5fw+uuvw9XVFZGRkSZ11CdOnDCZ/+6778b+/fsBwxNzkpKS4O7ujrlz54rLra6uxr333mtSOtTZcvbu3YsHH3wQMpkMgwYNwhtvvIFLly4BAHbu3Ilhw4Zh0qRJKCsrAwC0tLTg8ccfx0svvQQAaGhowOuvvw4fHx9x+UeOHAEM2/fiiy/C1dUVL774Ii5fvgwAOH78OCZPngx3d3eLJVQJCQkmn4nwuQjHhRBANRoNZs+eDY1GI85j/PkplUp4eHhg9uzZ4r7t6PMWli+0Gc8nMD7mhPWAYbkeHh5QKpUm09p7L1g4fqV9pO3SY1f4Phivh/E2SPdte+sOC+sqk8mQnZ2N+Pj4dvtY2j/G/aT7g4iIiHq3Hgn6CoUCa9euxdSpU7Fy5UrAENpcXFyQlZWF3bt3AwDWrVuHuLg41NfXQ61Ww9fXFwsWLDAJddHR0cjKykJ9fT3q6+sRExMj9tFoNEhLS4NarUZ9fT1SU1OxcuVKs4AklZeXh9DQUDz22GMYNmwYBg4ciJdffhmvv/461Go1ampq8M033yA+Ph7V1dX44YcfsG3bNuzdu9dkOQUFBbh48SKSkpJw5MgRNDQ0iMufN28eYmNjUV1dDY1GA39/f7z//vtoaWlBcXExCgoK8M0330CpVOLXX38FDLX41dXVYulQZ8s5efIk9uzZgw0bNqC2thbr16/HF198gaNHj6K6uhoKhQLffvstNBoNjh07Bhie1vPLL7/gnnvuAQB89dVXuPvuu1FSUoLTp0/D3d0d//jHPwAAOTk5cHJywgcffIAffvgBNTU1KCsrQ1xcHFatWoVJkyaZBUGlUonVq1cjNTVV/Mzq6+uxZMkS8bhwcXGBUqnEypUrMWvWLMBwYpWeno6kpCRxmf/617/w/fffIyAgACUlJWafd1ZWFlavXi1+3mvWrME333yD+vp6FBcXo7S0FC+88ILJ+pWUlCAgIACpqalIS0szW39BZ+8FAC+88IJ4/Br3EcJ+R8e38fchOzsbSqUSWq0WCxYswNq1axEfH4+PP/7YJIi3t+5KpRK7d+82WQ8HBwf4+vrCxcUFMHyX0tLSxD5Cade8efPMwv7u3buRnp6O4OBgfPbZZyZtRERE1IvpekBBQYFu6NChOhcXF11oaKiusbFR19jYqAsNDdW5uLjo/v73v0tn0el0Ot327dt1d911l06tVut0Op1u0aJF4vyCgoIC3V133aUrKCgwmlNPeI/2lq/T6XRNTU268PBw3bPPPqu7dOmSOD0vL09311136Y4cOWLSX6fT6crLy3WjR4/Wbd++3WS6SqXS3XnnnSbbeenSJd2TTz6pc3Fx0cnlcnF577//vtinvLxcN3nyZJ2Li4vunnvu0VVVVel0Op3uiy++EF9bsxypvLw83ejRo3UFBQW6xsZG3dy5c3UuLi6622+/XadSqXQ6nU73448/6kaNGiW+NnblyhXdggULdIsWLdLpdDqdUqnUeXt761xcXHRPPPGErqmpSbd48WJdWlqa7syZM7qAgABdamqqyTKMP3vj/aIz+nyENuF9dIbPWpgu7Oft27frXFxcTI4JY5193n//+9/N9pXxOgwdOlQ8jrZv327yWqqz9xJYOmYFlo5v4/XYvn27OG9X1t2YWq3WhYaG6tavX99uH0F72yzsd+lnRERERL1bj4zoBwYG4uzZs4iKihKnNTQ0oLS01KSfNXx8fFBSUiKWcAgjlFd7s+lvv/2GwsJChIeH44MPPoCrqys+/vhjnDhxAs7OzvDy8pLOgt9++w39+vXDyJEjUVpailGjRuHbb7/F6NGjcfToUTz00EMYM2YMnJycMGDAAERFRWHkyJHYtGkTxo4di8uXL+Pw4cMYOXIknJycMGzYMOzduxd//vOfMXr0aLi6ukKn0+HgwYPia2uWI6VUKiGTyeDj4wMnJyds2rQJ8fHx8PX1FZ+3r1QqIZfLLT5/v66uDidOnMCkSZMAABMmTMDRo0cRFBSEiRMnYvv27bhy5Qpmz56N48eP49KlS2Y/2CV89saj6uvWrQMAODk5Yfv27eKosnHteGJiojgSLVCpVOJ/X6vY2FgEBASgoaEB27dvR2pqqrRLlxmXKAmj+P7+/tJu7RK22d3dHQCQlpaGuLg4s8+2s3U3LvdZsGABNm7ciODgYHG5AqEkR1hXuVwu9hHKpBISEhAaGgq1Wo0pU6aYzE9ERES9W48EfSmNRoM//OEPYjnMzp07zcoFOvLZZ58hOTkZs2bNwk8//SRt7pKamhq0traivLwcv/32GzZt2oTq6mrs2bNHDNlS+/btw2233QYPDw8MHToUd911Fw4ePAgYtu3IkSOYPn06AODcuXNYsWIFXnrpJUyePBl2dnaoqanB4cOHERISIi6zpqYGeXl54hNrpK+tXY5AeqIAQz3+3r17ce+992LQoEFmr6VKS0tRXl5u8tShs2fP4ty5cxgxYgT+/e9/4/nnn8ctt9zS4QmDwNPTE1OnTr2qwJ6QkACVSoXi4mLAUCZ1LYRadYVCIW26KhqNBklJSWKJkkqlMqvh7wq1Wo2ysjIEBQVJmzpdd4VCAV9fX6jVasTFxWHevHliGZlAqVRi6dKlSE9Ph0qlMrlXAIYTtOXLlyMpKcmsjYiIiPqGHg/6dXV1mD9/PlasWIHAwEBpc4fCw8ORnZ2NtLQ0REREYOfOnfjd734n7dYl58+fR3NzM5ydnfH999/jpZdewty5c1FUVGTxMZGXL19Gfn6+GI4dHR1x991348CBAzh//jxOnToFALjjjjsAAMeOHUNtbS3uvvtucRknT55ES0uLSYAW6vH9/f2RmZmJhx9+GCqVCrt27UJLS4vVyxFu7B0yZAj+/e9/m2yDcT2+SqVCWFgYfvjhB+zduxc1NTXiMgTFxcVwd3c3+fEr4Xn8WVlZmD59OkaOHNnpCQOMRo+Nw6kw8mzpZlxjaWlp2LlzJ/7+97+bTDeWkJAAuVyOnJwcaZNFnp6eiImJ6fAks7m5GSEhIWY3ulp6L41Gg+rqakRERGD27NmIj4+HSqXCmTNnTOa11qFDh+Dj42PxV3A7W3eVSoWcnBzI5XIAsHhCrFarUV5ejrCwMMCwTCnhCty1nlQRERHRjdHjQf/o0aMYO3bsVT0LXC6Xo7q6GuHh4aivr8f27dvNyhquhkwmQ2trK6ZNm4Zt27bhypUrZiPZgsrKSuTn54s3rwLA5MmTUVpaitOnT+Pbb7/FlClTxKCfnZ2NO++8E97e3mL/vLw8yOVy+Pj4iNPy8/Ph5OSEzZs349ixYwgICMDOnTvF0Xhrl2N8Y6+rqyvGjh0rth0/fhwtLS04dOgQvvvuO8jlcvz444/w9/c3++VcnU5n8arGwYMHceXKFZw6dQp//vOfAQs39Fqye/duZGVlmZRvtXczrjR0pqWl4Z133mn3s9ZqtVCpVCgoKOhSeUlUVJRJKZG7u7v43nK5HN7e3khPTwcMQR5WvFdqaqr4NJ3w8HBx2V2lUCgQHh4unSzqaN0BYMqUKUhPT8fu3bsRFRUFhUKB6upqoyUADg4OyMrKavdxm8IJxdKlS8Xt70opEhEREd1YPR70vb29TR7xdzU6CkBddfLkSZw7dw5qtRoffvghhg0bZnEkW3D69GnodDqTWvRJkyYhODgYU6dORX19PVatWoUBAwagpaUFR44cEev1YbgisH//fowbN04c/RbKbAAgJiYG0dHRqKurw6JFi/D0008DgFXLAQBnZ2colUrMnz8fK1euNAnfSqUSFy9eRGhoKJYsWYLbbrsN//M//4OoqCiz+u26ujqzqxrnz5/HgQMHoFar8eSTT2Lw4MGA4QTCUn2+sQcffBAhISFIS0sTt2nRokX4+OOPsW7dOrH8aMmSJZI5geXLl3d49cfJyQn+/v4ICgpCaWmpyclERzw9PbF27VqsXLkSERERiImJEcNyYGAgpk6dajbi3d57BQYGIjw8HBERESgqKsKoUaMQEhJi8WSgM0Igt1S2I+ho3Z9++mnk5eUhLCwMDz74oBjYpYQrFsJ9BSEhIWYnA4sWLYKvr6/Z9hIREVHvxx/MIiIiIiKyQT0+ok9ERERERNcfgz4RERERkQ1i0CciIiIiskEM+kRERERENohBn4iIiIjIBjHoExERERHZIAZ9IiIiIiIbxKBPRERERGSDGPSJiIiIiGwQgz4RERERkQ1i0CciIiIiskEM+kRERERENohBn4iIiIjIBjHoExERERHZIAZ9IiIiIiIbxKBPRERERGSDGPSJiIiIiGwQgz4RERERkQ1i0CeibqfVajF79mwkJCRAq9UiKioKSqVS2q1X6YvrTERE1BE7nU6nk060JRcvXkRzczMuX74sbepRAwYMgIODAwYOHChtumG4b+h60Wq1mDdvHlxdXVFXV4e4uDiEhoZKu/UqfXGdiYiIOmLTI/oXL15EQ0PDDQ+yAHD58mU0NDTg4sWL0qYboq/uG61Wi9jYWBw+fBixsbHQarXSLnSdKZVKvPjii9LJJpycnDBr1iz8+OOPeOedd/pEYO6L69wRjUaDgIAAJCQkiNMSEhKQkZFh0o+IiGyXTQf95uZm6aQbrresU29ZD2MdrZNQViGXy6FQKHDo0CFpl5uKEOJkMhk8PDyua4mJ9L3y8vKkXUwI/QHg7NmzCAwM7PUBU6lUwsPDA/7+/uI6v/jii9d1v3akO8qI1qxZg2+++QZnzpyBUqlEQkICdu7ciZCQEGlXk/frKRqNhifrRETXmU0H/d4wWi3VW9apt6yHsY7W6YUXXkBcXBzq6+uhVquxadMmlJWVSbtZTQg2GRkZyMjIQGxsrLQLYNQvICAAGo1G2nxDaLVaLFmyBN988w3q6+tx+PBhvPrqq9dl/Sy919q1a9HQ0CDtKupKwOwNtFotPvvsM/z8889IS0sTA2hDQwMCAwOl3btFRkaGVaG6sbER8+bNw/z587u8Lk888QQefvhhrFu3DiEhIVCpVNi+fTucnJykXXtUQkICZDIZJkyYgKeffhrr1q1DbGwsNBoNZs+efV2OYyKim5VNB32yDUqlEmlpaYiIiIBMJoNcLkdOTo6023XR0NCA+++/H0uXLu01ASQrKwvp6ekICQmBTCaDn58fcnJyoFAopF2vmaX3Ki8vl3Yz0VsDZnucnJwQHh6OoKAgKBQK+Pn5wd/fH4mJidKuPUYoI/rkk0+uuowoMDAQZ8+eRX19Perr62/o9hhTqVQAgOXLl3f55IWIiLrGpm/Gra6ulk7qFdzd3aWTetzNvm+EGy/j4uIAAGlpae0GoYSEBKhUqnbbiXozjUaDGTNmYO3ate2eMAjfh1mzZmHJkiXS5utK+H7Fx8djwYIF+PLLL+Hp6SntRkREV4Ej+t2kqakJkZGRGDFiBD7//HNpc4ekN80Jr6U1zUIZiUwmE/+ML/8L7bNnz4ZWq73q2t7uduzYMdx1110YMWIE7rrrLhw7dkzapUOdbXd7faT7z5iTkxO2b9+O0NBQhIaGiiHeuB5d+Nu5cyf+/ve/i/MKpQeW3ic2NhYymcykFEio/xb6Sd9D+LyM+0rr7mNjY036Xes6ZGRkmMxvvD+N1894ucI8xmVMwnoYr5vxZyH9nIznMV6OsH6WlmO8L4R1MJ4m9DPeXkvHg6V1iY2NFb9rHh4e7ZZwWVpnYR7jdbNU4iVsW0JCAmJjY80+W0i+uxs3bjRbX2uPC2Ga8Xb7+flh6tSpYsi3dHxY0tk+lLZLt114H0vHkPF7L1myBImJifD09MT27dsZ8omIutEND/rl5eV46623MH/+fLz11ludlgX0RpWVlZg1axb+9Kc/YdKkSdLmbmNcp15fX4+srCysXr1a/D/frKwszJo1C7NmzUJWVhbWrVsHmUx2Qy+PNzU14aOPPsLGjRtx6tQpLF68GG+99RaampqkXS3SGkYafXx8xO0uLi5GUlKSGCC0Wi0WLlyId955R+yTmpqKiIiIDsO+JQUFBZg6daq4HLVaDQCYN28etFotlEolzpw5I7bHx8cjOjoaSqVSDDnp6enIzs42C3MCoYbdePkvvPACAGDPnj1ITk5GeHg4PvvsM8mcetJ1SE1N7dI6aDQapKWlQa1Wi/OvXLlS3FcKhQJr165FfHw8Pv74Y3G733rrLRQUFMDX1xcKhQIajQYqlQoFBQUoLS1FVlYWYNiWWbNmITU1FUlJSSbhT6vVQqVSITs7W3wvAPjXv/6F//znPwCAdevWAUbHc3JyMvbs2QMA2L17N7KyshAeHi5Ok7LmmIEhiGZnZ0OhUCAtLQ2HDx9GWVmZ2QlBe+tsDaVSiYcffhjLly8HAISHhyM5ORl/+tOfxP0irC8AvPLKK9i/f7/Z+lpzXMBwQhIeHm5yfAKAv78/YPjs0cnxASv34bp160zum/H19cWCBQvE48XFxQWpqali2ZtWq0VaWhoKCgoAo3UhIqLr54YH/eTkZBQXFwMAiouLkZycLO3S7ZYuXYoRI0ZYHGH+/PPPxbYHHngAlZWVYpvxqP2IESMQGRmJpqYmDB06FHv37sXMmTPFvtdDYmKiyaX3wMBAhIeHY+fOndBqtQgNDYVKpcLKlSsRERFhNhLdGen2Sbf/avaNo6Mj1q1bh7FjxwIApkyZgvr6ejQ2NorzdqSkpAR5eXkIDw8Xp3l6emLq1KlIS0sDDKPzCoXC5IQmJCQEU6ZMEftYy3h0H4Zlx8XFobS0VLw5c82aNWJ7VFQU3N3doVarxZHIsLAwlJeXiyFeas2aNeK6CrXYZWVl0Gq1mD59OqKjo6FQKMRpUtJ1CAoK6tI6eHp6IjExUayZF/aVUDsdFRWFpUuXYuXKleI8n332GR5//HGT0VZPT0/4+/sjKChIPEFXKpU4duwYoqKixH7GnJyc4O/vj6lTp5qc1D/44IMICwtDTk6OuB5BQUFISkpCRESEGFQffPBBhISEQKFQiP2kSkpKUFpaiqefflocVRZO4ITjQaPRIDs7GzExMZgwYYI4ojxr1izx+yRob52tsWfPHri7uyMqKgpLlixBaGgogoKCAMNJJYyO8bi4OEydOhVr1qwxO8atOS5gGB0X/o3IyMiASqVCVFSUuE3WHB+wch8av5f0ezJq1CgUFRUhIiIC1dXV0Gg04n4MCgpCWVkZXFxcJO9KRETd7YYHfSHkt/e6ux07dgwNDQ0oLCzEqVOn8Msvv4ghdPfu3SgpKcGpU6dw6tQp/N///R/effddwBBkFyxYgGHDhontKSkpcHR0lLzD9WNcriGMOgoBSJCYmCiOwHX1Bsjc3FyT7du7dy+GDh0KdOO+ycnJwV133SUu1xru7u6Qy+UmpQD+/v4mgUcreTqOk5MTfHx8pIuyirAs47IDIax0JjExEVlZWXBwcJA2WUW4gbK9oGyNa10HT09PFBUViaPBGo0GZWVlFtdpyZIlKC4uhre3N2AIttITAhiVbGRkZJjNA8MJllqtxpQpU8RpGo3G7F4SS/3aI4TY9PR07N692+yYgeH7I3yvYmNj4e/vL4bVztbZWr6+vtBqtQgICICHhwdKSkrg6+trcqIiPcYTEhJM1tfa40JYZ5lMJt5XYunfCGuPD2v2oSVCaVxqaqrJ9PZOzoiI6Pq44UHfz8+vw9fdbejQoSgsLERwcLBZrfj27duxefNmcVR64cKFOHPmDJqamvDrr7+ivr4ey5YtM5mnp2g0GiQlJSE1NRX19fVQqVRmJQbXysPDA9u3bzcbrUc37Zvdu3fj66+/7rSfJXl5eaivr0dBQQHS0tLMrgi88MIL8PHxwdq1a7tUWmGJUDIilB1UVFRIu9xU8vPz4ePjYxbepRobG3HgwAFMnz5d2oTQ0FBERUWJpUCdUSqVePbZZ3H48GFERUV1+cqM8QlCWFgYhg0bZtIuaGxsNCnLMT6uurrOHcnPz0dMTAyWL1/e7gmjcag+c+aMtLlTWq0WH3/8MeLj47vl3whr96G1hBOprKwslJaWoqSkRNqFiIi62Q0P+tHR0WK49/PzQ3R0tLRLtxLKbPLy8vDWW29hxIgR2L17t9i+fv16cVS6o5Hp62HlypUICAjA2bNnAQARERHijXbC6KYwLT4+HiqVyiQQCCPRwjzaLt6MO3bsWPzyyy/YsmULHnvsMbOypmvZN7t378brr7+OLVu2dGk0f9SoUfD19cUXX3yB9PR0BAUFITw8HM7OzmIfrVaLsrIyKBQKREdHWwyaXRESEoKdO3ciOjoaEyZMwIEDB6RdrJaRkYGQkBA0NzebBUbhBkvjEhmphoYGzJ49GwqFAjk5OWIdvCA2NrbTR152tA7W2Lx5s0npVHuE0dpRo0ZJmwAATz/9tFUBr6ysDM8++yz+8Y9/mJ1caDQa3HPPPeLjRC0F2VGjRiE4OBgqlQpPP/00xo0bZzYS7uLiAl9fX+zatUssy/H39zc5rmDFOjc3NyMkJES8ubS8vBx+fn4mV9zy8vLg7OyMpKQkJCUlYeLEiSbLELZR2H9hYWF48MEHTfpIWTouGhoaUFpaKv478vLLL5v9G2Eta/ZhVwhX/3r6iT5ERDe7Gx70vb29sWLFCnz11VdYsWLFVV0avxqOjo5ISUnBsmXLxP8THzVqFF5//XWz0WwAGDlyJGQyGTZv3ixtumZC6IiPj0dMTIz4q6+pqanijbWC1NRUsTwlPDxcvHER3XgzrnAyNHv2bPGk41r2zeeff35VIR+GEgAfHx+cPHkSWVlZqK+vb/cRgVFRUeKvml4Loezg7NmzSEhIEEd7uyotLQ1paWl4+eWXUVBQAB8fH5MfmhJusBRKZKTq6uqwYMEC/OEPf0BCQgJSU1NNSh+EkeGCgoJ2vzedrUNnSktL8dtvv4l15R3JyMjAvffe2265WGBgIKZOnYpXX31VPNmQlpXAUN71+OOPW/wcFQoF4uPjMWXKFHG/PfTQQ6irqxP7CMfMgQMH8Oqrr2LFihVmJwzG90Z4e3uLNfRSHa2zXC6Ht7c30tPTAQAVFRXw9vZGQUEBVCoVNBqNeP9EY2MjJkyYgG+++cZsXYR6fJVKBX9/f8THx7d7jMOK40L4d6S4uNjs3whrWbMPrdXc3IzDhw+3e5wTEdH1c8ODfk/bvXu3WH4yYsQI/PTTT5g/fz4A4KmnnsJ9992HSZMmie3CozIdHR3x0Ucf4euvvza74VS4EXXMmDHYv38/3n33XbMrBR0RbmRbuXIlkpKSEBYWhpiYGPGG2pCQEPHG24iICBQVFWHUqFHiTZSCa70Z1/hm2xEjRgCGmx9xDfumsrISX3/9NSoqKizOa63g4OB2R4oFCoVCrE+WyWTXXMIDQwiLiYmRTrZaYmIigoODxaBsHJaEGyxXrlyJuLg4s4B84sQJvPPOO4iMjMSmTZvMrlYIywoKCoKvr2+7vzzb0Tp0pry8HGPHjrVqnpMnT3Z6NSU+Ph6lpaUdrvOUKVOwaNEi6WTAsM+ee+455OXlYfr06ViyZAn+8Y9/4MSJE9KuSE9PR1xcXIehOScnB7t27erwNxLaW2fhJCAsLAwAEBkZCV9fXwQFBcHf399knz333HNYtmyZxZMXgXC8WjrhMNbecSEcq8K/I0FBQWb/RkByhaezH6GzZh9aY+3atVYdQ0RE1L34g1k3QE/9KFRHuG+IiIiIbNtNN6JPRERERHQzsOmgP2DAAOmkG663rFNvWQ9jvXGdiIiIiPoqmw761jwnuqf1lnXqLethrDeuExEREVFfZdM1+gBw8eJFNDc34/Lly9KmHjVgwAA4ODhg4MCB0qYbhvuGiIiIyHbZfNAnIiIiIroZ2XTpDhERERHRzYpBn4iIiIjIBjHoExERERHZIAZ9IiIiIiIbxKBPRERERGSDGPSJiIiIiGwQgz4RERERkQ1i0CciIiIiskEM+kRERERENohBn4iIiIjIBjHoExERERHZIAZ9IiIiIiIbxKBPRERERGSDGPSJiIiIiGyQnU6n00kn2pKLFy+iubkZly9fljbZvAEDBsDBwQEDBw6UNhERERGRjbPpEf2LFy+ioaHhpgz5AHD58mU0NDTg4sWL0iYzWq0WsbGxOHz4MGJjY6HVaqVdej2NRoOAgAAkJCSI0xISEpCRkWHSr6+wte0hIiKinmXTQb+5uVk66abU0X7QarWYPXs25HI5FAoFDh06JO1yzWJjYzF79mz8+uuvCAgIwMsvv4wXX3xR2q1LLAXeNWvW4JtvvsGZM2egVCqRkJCAnTt3IiQkxKRfX9EXtkej0Vh1YpiRkYHZs2dDo9Fg9uzZkMlkZp9fVwgnQTKZDB4eHlAqldIuRERENz2bDvo360i+VEf74YUXXkBcXBzq6+uhVquxadMmlJWVSbtdtYyMDPj7+yMuLg7//ve/cenSJSgUCjzxxBPSrp0yDncqlQqhoaEm7U888QQefvhhrFu3DiEhIVCpVNi+fTucnJxM+vU0a8OwVG/dHhhOtGQyGSZMmICnn3663XVSKpXw8PAAAAQEBCA9PR2urq4ICwtDWlqatLsZ4UqTRqMxmbZkyRJ88803qK+vx+HDh/Hqq6+a9OkpwvZdy0kLERHR9WLTQZ86plQqkZaWhoiICMhkMsjlcuTk5Ei7XZOQkBDs3LkTEREReP/991FVVYWYmBgEBgZKu3ZKo9Gguroa3t7eiI+PlzYjMDAQZ8+eRX19Perr65GYmCjt0qf05u1RqVQAgOXLl7f7WWq1Wrz66qtITk5GaGgoGhoacODAAchkMshkMpSVlXX55AcAsrKykJ6ejpCQEMhkMvj5+SEnJwcKhULa9boLDAxEcnIyPv7446vaFiIiouvJpm/Gra6ulk7q0Oeff46SkhKsXbtW2tQlS5cuxahRo/DUU09Jm7rV7t27sX37dqvW193dXTqpx2k0GsyYMQMxMTFYsmSJtLlbCWUuGzdubHe0uS+JjY0FgF4V9jujVCrx7rvvYv369XByckJGRgYiIiKQmpqKtLQ0lJWV2cTno9VqMW/ePMTFxZldZSIiIrqROKLfzT7//HOcOXMG8+fPlzZ1uwcffBAwvOfVEOrzhRFWmUxmcuNne306KlMQymtmz54tjnBaqqc3lpGRYbHWurP3lrYL667RaJCUlIRZs2YBgNjHeNsyMjJM3i82NtZs+cJ6CSHbeJr0PQXSdZL2kbYHBASYlZxI30MmkyE7Oxvx8fEm80vXy9L2GPcR5jXeT0IplKX1EcpzhD/jZSUkJFhcd2N79uzBvffeKwb50NBQ1NfXWwzD1m6XME0mk2Hjxo2YPXu2xfUQSmqEdZcuAxY+C5nkszLeP8bHhVKpREBAgLg8JycnzJo1y6pSJCIiop50w4N+eXk53nrrLcyfPx9vvfUWysvLpV36jGPHjmHr1q346KOP4OjoKG2+LpYtW4atW7fi2LFj0qYOCaOQPj4+YmlIcXExkpKSxFCj1WqxcOFCvPPOO2Kf1NRUREREtBvcFQoF1q5dCx8fH7zwwgvQarXYuXNnhyFo9+7dSE9PR3BwMD777DOgnfVLTU1FdHS0GLDWrVuHuLg4JCQkICEhAUlJScjOzhbrt5csWYKSkhIEBAQgNTUVSUlJZoEQhuDm4uKC1NRULF26FBqNBlqtFmlpaSgoKAAMoU+j0SAtLQ1qtVpcn5UrV5rsL+k6S/epsM7CPRG+vr5YsGCBeFKkVCqxe/ducf6srCw4ODjA19cXLi4u4vZkZWXh2LFjFrdHmJaeno7s7GyzgCtYuXIlfH19xe2pr69HUVERPD09kZGRgaSkJBQXF4vbkZ2dbXZi0x7hc/f395c2WWTNdsEQ8oWrAvv378c777yDmJgYs3348MMPIzk5Wdyu5ORk/OlPfzJZrvH9KcK+Xr16tbiNBQUFiImJQXx8fKelOf7+/lddikRERHS93PCgn5ycjOLiYgBAcXExkpOTpV26VWVlJR544AGMGDECI0aMwAMPPIDKykqx3cvLC5GRkRgxYgTuuusukwC9e/ducb4RI0aYjaRv2LABjz76KIYOHWoy/XoaOnQoHn30UWzYsEHa1KGSkhLk5eUhPDxcnObp6YmpU6eKodzJyQkKhcKkBjskJARTpkxpN7hPnz4d0dHRUCgUKCsrQ35+Ps6fP49jx47h7Nmz0u6A4cpEWFiYyf0BDQ0NKC0thUKhEK8OhISEIDg4GHv27AEM4SoiIgJr167F3XffDTc3N7i4uGDZsmX405/+BKVSiVGjRqGoqAgRERGorq62GCAt9XFycoK/vz+CgoJQVlYGFxcXeHp6IjExURyhFvaFUK9uzT5dsmSJOKLt5OSEuLg4lJaWoqGhATDUfK9ZswYwBPZXX30V77zzDvLy8lBSUiKua0hICE6cOGFxezw9PQEAYWFhKC8vh1qtlnYR5eTkQC6Xm41ap6Wloby8HBMmTIBSqRS3Q9hWa7i6ukIul0snW2TNdsGwXlOmTEFISAjWrFmDwMBATJ8+HaWlpSgpKQEMVxKCg4Ph5+eHgIAABAQEwMvLCzCEd0FiYqLJ1YXAwECEh4dj586d0Gq1CAoKQlJSElauXGnyGVkil8tRV1fXYR8iIqKedsODvhDy23vd3YYOHYq9e/fi1KlTOHXqFP7f//t/2Lx5s9j+ySefICYmBqdOncLixYvFAN3U1ITU1FR899134rzGNfhNTU1oaGjAlClTxGk9ZcqUKfjll19MTlis4e7uDrlcblK2Ih2ZFMobhPIIJycn+Pj4SBclEm4gjYqKAgD89NNPmDdvHsaOHWvy6E6htCIhIQGhoaFQq9Um+87T0xNr166Ft7c3vvzyS4t13EIpSFFREX788Ue4urpi1KhRgOH+DLVaDScnJ2zfvh2pqanS2UXt9elKqBVYs087YlwusmDBAmzcuBHBwcHiPRbtratUYmKieDWgPYmJieJodnx8vHg1AwDi4+Ph7e2N5ORk8USvK9vR0NCA3377TTq5XdZuFwD4+PigpKQEHh4eCAgIgJ2dHQCYndDk5+cjJiYGMTExKC4uhq+vr8lnalyaJIziG1+B8PT0RFFRkcUbv4mIiPqCGx70/fz8Onzd3ZqamsQR+xEjRuDdd98VRwIBYO7cuWLt+5QpU9DQ0ICmpiY4OjrCxcUFv//9781G8gGgsbER9fX1PTqaLxg6dChkMpl0slXy8vJQX1+PgoICpKWlobGx0aT9hRdegI+PD9auXdvlp5rU1dWhqKgIUVFRCA8Px6ZNm8S2wMBALF++vN1yGq1Wi48//hgxMTHiCHV7lEolVq9ejbi4OIsnBFcjNjYW/v7+yMrKMhkttkZn+7QjCoVCLKeJi4vDvHnzemSUePr06YBR2Y+wHlf7zH4XFxfcfvvt0sndZs+ePUhOTsbs2bNRUVEhbUZpaSn8/PyQlJSE1atXmx1DGsN9HKmpqaivr4dKpbK6LImIiKivuOFBPzo6Wgz3fn5+iI6OlnbpVl999RUAoLCwEKdOncKyZcukXdq1du1anDp1CgAwYsQILF26VNqlzxg1ahR8fX3xxRdfID09HUFBQQgPD4ezs7PYR6vVoqysDAqFAtHR0WIYtNbRo0chk8ng6ekpBkbjezCEUX/jcgqBULpjLWEk3RoJCQmIiIhAc3OzeE+AsXfffRcwlNl0hTX7tDMqlUospwGAWbNm4aeffjLpY7z+0rrzrhKu2ISEhJg8pcp4PaT3Ywghuby8HDNmzGj3/evq6sxG2Y3l5OTgnnvuEee3Zrv8/f2RnZ0Nf39/REdHo6ioyGxwQDhOdTodYmJiEB4ejokTJ5r00Rge1RoREYHZs2cjPj4eKpUKZ86cMelnLbVaDVdXV7i4uEibiIiIbpgbHvS9vb2xYsUKfPXVV1ixYgW8vb2lXbpVSUkJhg0bBkdHR1RWVuLrr7+WdhFt2LABEydONLux9qmnnsJ3330njvYDgLOzM2QyWbvlM8K9AZGRkeI8AuEqg/R+AcHnn3+OESNGYPfu3dImwLBsmUzWpUAplOCcPHkSWVlZqG/naSgwBPKzZ8+2+7z0jgj16sKTSYx5enoiJibGpGTE2ps3r9a7776LxsZGvPTSS+IJhnEpSnNzMw4fPnxV5Rpd2acdmTJlCtLT07F7925ERUVBoVCIIVyj0UClUuGLL76At7c3FAoFZsyY0e49E50xvgnW+BGs/v7+JushqKurw4oVK7B06VJ4e3tj6dKlFq/0CJ93e+VPwvITExOxZs0aq7fL+GQzODjYYlmXMHr/3Xff4T//+U+Hn2VqaqpYlhYeHo5169ZJu1hFpVLBx8fHbF2IiIhupBse9Hvak08+ie3bt2PEiBGYNm0a5s6da9K+efNmsawHhlAPCzfxzps3D3/729/EkwChtKe7f3DKGjk5OXBxcTE7IbFGcHCwWNfeHoVCYfIIQkvBzhJvb28EBQWJry2F+EWLFsHX1xdBQUEoLS0VR/mtJTxhpby8XPwBpZCQEDQ3N0u7orm5Gffeey9ee+01ODs7IygoCP7+/mbhbO3atWalHl1hzT5tz9NPP428vDyEhYXhwQcfFE+GBMJ6/fWvf8XUqVMxYcIEFBUVGS1BLyMjQ9wPHf0gmvFNsFOnThVP5qKiolBaWiquh+DEiRNYtmwZwsLCAMNVD0ufKwyh/MCBAxZr+pcsWQIfHx/ExsbixRdftHq7YLj/YunSpfjyyy87/JwUCgU2bdpksY9w421ERASKioowatQo8eZqY7GxsVi5ciXKy8vh5+cnHl/GVz+EJwwZ34RNRETUG/AHs7rRsWPH8PLLLyM5ObnHavUrKysRHR2N9957D2PHjpU2i3rDD2bRzUV7k/yQVEZGBj7++GOb+PEvIiKyLTfdiP71NHbsWDz66KP429/+Zlaec728++67ePTRRzsM+XRzE35gKiEhAUqlEi+++KK0y3Xh5OSEd955B9HR0WZ1/rZCqVQiOjq6W28EJyIi6i4c0b8Oli5ditmzZ5uUPFwPu3fvxvbt27F27VppkxmO6N/chB+agqEsJzExUdqFiIiIbIxNB/26ujpcvnxZOvmmM2DAALi6ukonExEREZENs+nSnY5+LOhmwv1AREREdPOx6RF9ALh48SKam5tvypH9AQMGwMHBAQMHDpQ2EREREZGNs/mgT0RERER0M7Lp0h0iIiIiopsVgz4RERERkQ1i0CciIiIiskEM+kRERERENohBn4iIiIjIBjHoExERERHZIAZ9IiIiIiIbxKBPRERERGSDGPSJiIiIiGwQgz4RERERkQ1i0CciIiIiskEM+kRERERENohBn4iIiIjIBjHoExERERHZIAZ9IiIiIiIbxKBPRERERGSDGPSJiIiIiGwQgz4RERERkQ1i0CciIiIiskEM+kRERERENohBn4iIiIjIBjHoExERERHZIAZ9IiIiIiIbdMOCvlKphIeHBzIyMgAAGo0GAQEB4uvrQavVYvbs2df1PYiIiIiIeoMbEvS1Wi0+++wz/PDDD/j4449x8uRJLFiwAFOnTkVoaKi0OxERERERddENCfpOTk7w9/fH1KlTkZOTg6CgIMyaNQuJiYnSrkREREREdBXsdDqdTjqRiIiIiIj6th4d0U9ISIBMJkNGRgZiY2Mhk8mQkJBgsY/wN3v2bGi1WrFdqLM37hMQEACNRmOynIyMDLFdqMkXlh0bG2vWp73lQPKexuuTk5OD2267DR9//LF0FiIiIiKiG6pHgr4QlFeuXInU1FSkpaUhPDwc8fHxWLlypUnwVqlUqK+vR319PbKyspCXl4d58+ZBq9VCq9Vi3rx5iIuLE/sUFxcDACZMmAClUgkYbuxdunQp4uPjkZWVhd27d5usDww3A3/11VdQq9Umy5kxY4ZZ2C8pKYGrqysKCgpQWlqKdevWmbQTEREREfU2PRL0s7KykJOTgylTpiAkJASJiYkIDQ1FVFQUvL29kZ2dDY1Gg9DQUJM6fU9PT7i7uyMvLw8lJSVwcnLC9u3bTW7Y9fT0RExMDJqbm/HZZ5+J0wFg5cqVCAkJwYMPPmgyHQACAwOhUCjg5OQEAHBxcYGvry/Ky8tRUFBg1lcmkyEoKAjl5eXi9ClTpuDcuXOIi4sz6U9EREREdKP1SNA3lp+fDw8PD3h4eIiBurq62mwUvT3CYziNS3Da4+DggKysrKt6ko/w+E8PDw8olUokJiYiPj5e2o2IiIiIqFfqkaAvl8vh4OAAAPjpp5+QnJyM5OTkq6ptVygU8PX1RXFxMerr68VyHWOenp745ptvAAAPP/ywxT6dCQwMxPLlyy1eKSAiIiIi6u16JOgLJTilpaXw8vJCREQEIiIi8Ic//EHaVaRUKjFhwgSTUhkAUKlUyMnJgZ+fH2QyGQIDA03aYRj1/9Of/gQA+P777y32scaiRYswZcoUKBQK/sgWEREREfUpPRb0p06diurqasBQUhMVFYWwsDBpV9GePXuQnJyM1NRUaRMAID4+/ro/d9/JyUmsv09LS4NKpQIA+Pv7A3zqDhERERH1Yj0S9AXNzc1YsmQJkpOTOw3p06dPR3R0NCIiIrB8+XKzUfmVK1eKj8VcuXKlSZugubkZISEhnfbrSGhoKOLj46FQKKBQKBAVFXVVNf9ERERERD2JP5hFRERERGSDenREn4iIiIiIegaDPhERERGRDWLQJyIiIiKyQQz6REREREQ2iEGfiIiIiMgGMegTEREREdkgBn0iIiIiIhvEoE9EREREZIMY9ImIiIiIbBCDPhERERGRDWLQJyIiIiKyQQz6REREREQ2iEGfiIiIiMgGMegTEREREdkgO51Op5NOvBF0Oh1aW1vF/+4lq0VEREREdE3s7OxgZ2cHAOjfv7/439fbDQ/6QsC/cuWKtImIiIiIyOb069evRwL/DQ36ly9fZsAnIiIioptSv379MGDAAOnkbnPDgv6lS5dYnkNERERENzU7Ozvccsst0snd4obcjHv58mWGfCIiIiK66el0Oly+fFk6uVv0+Ig+R/KJiIiIiExdj5H9Hh3R50g+EREREZG56zGy32NBX6fT8cZbIiIiIqJ2XLlypVsHxXss6AvPyCciIiIiIsu6MzP3SNDnaD4RERERUee6c1S/R4J+d56ZEBERERHZsu7Kzj0S9ImIiIiIqGf1yOM1+UhNIiIiouvn/PnzWLduHezs7MRpFy5cwO2334758+eb9DXW0tKCDz/8EDU1NXjllVeQk5MDAJgzZ460a6+1efNmPPbYYybb3tLSgvr6egwdOtSk79VISkrCoEGDoFQqMWnSJPzyyy8AgMWLF8Pe3l7avVt016M2eyToX7x4UTqJiIiIiLpJSkoKJkyYgLvuustk+j/+8Q88/vjj8PDwMJkuEIJ+SUkJACA8PLxPhXyFQoHdu3dj3LhxiIuLQ79+/ZCRkYEzZ87Azc0N586dw1NPPSWdrUvy8/ORnJyMhQsXYv/+/bC3t0dNTQ0effRRjBgxQtq92wwcOFA6qctssHRHjfSVScgXXhYk4bVtatMuRERERDZAo9Fg69atOH78OA4fPoytW7fiu+++Q0tLCwDA09MTzc3N0tlE9vb2WLZsGdavX4/169f3qZAPAHPnzsWdd96JBQsWoF+/fti6dSuOHj2KgQMHYu7cuXBxcYFGo5HO1iUTJ07ERx99BD8/P9TU1Fy3UfzrwQZH9NVIX7kN8vgYTIQh6J+ZgzfnyKUdiYiIiPq01atXIywsDGPHjoWdnR1aW1uhVCqxb98+PPvss9i0aROCg4Ph6+srnRXbtm1DWloaAGDUqFFiKUpHo/zG8wDApEmTEBMTAxhKXPbv3y+2PfPMM5g4cSJgKC1atWoVqqurzdqu1eXLlzFgwABs2bIFdXV1iI6OxqZNm1BXV4fa2lo8++yzZuH8/PnzSExMRGxsLGpra7F161bExsZ2uv0wXAVJTEwUR/RPnTqFhIQENDU1ITw8HGPGjDFZ3tW6OUb0Nel4LSkf+UkLsXDhQixc+BrSNfoAvzBJHLc3vN6N9JWvYcuZ/fh04UIkFQiN+UhaaJhfOo8wfaH0KkC65XmIiIiIeolbbrkF48aNE+vT+/fvj+DgYHFEX6fTmdSuC/Lz81FYWIhPPvkE69evx+DBg7Fr1y4AwNdff40xY8Zg/fr1WLNmDQ4dOoRTp04Bhtp9YfT/k08+QU1NDfLz9TkpJiZGbPvf//1fbN26FefPnwcAbNy4EREREWJbdna2uI7XSgj5Go0Gf/nLXwDDSP+JEycwefLkLoftXbt2mWx/YWGhuB2W7Nq1C01NTXj44Ydx8uTJbtuu7tD7gz4A7P8UeXfrD5z1z96OLZ+lQx00B4+V54nhPP/Qb3js9w8iLP5NPDZsEp5Zvx4xQfo2dVoFgtevx/r1b+Kx8i36EwVNOl77B/CM4YB8M/w3fGoU6C3OQ0RERNSHqNVqODs7SyejoqICY8aMwddff41ly5bhjjvugFqtRktLC5qamtDc3IyFCxdi48aNGDZsGGprawHDiP7ChQuxbNkytLS0YMyYMaioqAAMJw8LFy5EUlIS5HI53NzcUFtbi5aWFtTU1ODTTz9Ffn4+3Nzc0NLS0m2BWKlUQqPRYNGiRbCzs8OVK1ewYcMGzJkzB/fff7+0e6fUajXS0tKwbds22Nvbw97eXtx+S+RyORwdHQEAjo6OXT6xuJ76RtCf9IwY2hEUjElnKqCGHBPv+Q15BQCQj7zy+zDR03Q2gTx8jr6MB3JMvOd2AID60D5AnA7I5zyGSeVqCNX8luYhIiIi6k3aq8Cura3F+++/D29vb7i7u0ub4eXlhaysLBw9etRkur29PRwdHXHHHXdg0qRJqKmpQVNTk9iuVqvxzDPP4KmnnsJ3331nMq8Q+KXs7e0xZswYhIeHd1u5jrGff/4ZTzzxBPr3748rV67giy++QEBAwFWFfAAIDg7GpEmTrL5fYc6cOXjvvfdQUVGBmTNnSptvqL4R9Nshv/s+/HYoHyjIw2/3TASr8ImIiOhmYqksBwBcXV3x0ksv4bHHHpM2AQDc3NwAAEuWLMG7776LQYMGiW1yuRzZ2dkoKSnBH//4R3G02nhkvrCwEG5ubjh48KA4Hwz17ELNvjG1Wg0vLy/p5G7R2NgIFxcXVFRUIDExEePHj8d9990n7WampqYGr7/+Ok6dOoWTJ0/i5ZdfxqlTp1BRUQG5vONU2dLSgrfffhvbtm2TNvUqfSPo728r0VFv24L9k4L1o+2eE3FfeR6SDv2G++7u+AORkt99H5C2zXS53nKeLBAREVGf4evri6+//hpbt24V/4QnxHTEzc0N7u7uYuA35uXlhZMnT+Lpp582eXykMDIvmDlzpngSIEhLS8PChQvx3HPP4eTJkyZt14tWq8WqVavw/fff48EHH8SkSZOkXczY29tj8ODBgOHEZtiwYdIu7ZLuBxjq9I8ePYq3334bb7/9dreVJV2r3v/UHU06XvuuArfv34/9ADDsMbwZHyYGcvW21/Ca+jGsj2m7FKTe9hpeS1Nj0rPrEQPTp+6otyUh/+4YhHm29YN0uZIn9RjPQ0RERNSb1NbWorKyUnwtl8shk8lM+lDf0x1P3ekjQV+ON42CvLH8pIXIu7vtxlsiIiIior6uO4J+3yjdscTwaMxPYXSjLhERERERAX1iRJ+IiIiI6CZzc4/oExERERFRuxj0iYiIiIhsEIM+EREREZENYtAnIiIiIrJBDPpERERERDaIQZ+IiIiIyAYx6BMRERER2SAGfSIiIiIiG8SgT0RERERkgxj0iYiIiIhsEIM+EREREZENYtAnIiIiIrJBDPpERERERDaIQZ+IiIiIyAYx6BMRERER2SAGfSIiIiIiG8SgT0RERERkgxj0iYiIiIhsEIM+EREREZENYtAnIiIiIrJBDPpERERERDaIQZ+IiIiIyAYx6BMRERER2SAGfSIiIiIiG8SgT0RERERkgxj0iYiIiIhsEIM+EREREZENYtAnIiIiIrJBDPpERGS7SrKxI++8dCoR0U3BTqfT6aQTu9vFixelk4iI6KbUhJO5e6Esb8DFVmDg0DF4ZMZoOEm7XaXWc4XI3HcCZ7Wt6D90HIIGnETF7Y9gmq+0JxFR7zZw4EDppC7jiD4RdbPj2JmSjly1dDpRKypy9+DAaX3IB4CLlSrsL5H2u0qNx/Fj5nGc1eoX3lp5HEdqneDFkE9ENymO6GMv3pz+FnYBmPlOBl6bLG3vbqXIfdMfqirhtT/8lysxWW7UJS8aG75K0f/3kNUIe+15DAUA7MCOxeEQ8pN8fgseCW6bTZVkj9xjhhdj0/BkzCNtjTZFg9y0PGBSGCbXZkJR4YmomaOlnSzQIDftZ5S2GF4OGSOZ7zh2phSiCsCQ8XMxK8CoqSNFmVAcqTa8uBW+08KMPs+2ZQKA/fD78dhkT6GxQxW56cg8fcHwyh3jI6dhjNDY4Xu2x7D9zsJ2G17DB9PC74GXtPvVUh/Elswm+Bmvby8j7lv77tj2VpT8uA0FduPwx+kjpY03mOnxZ3YcSY8z4/3R4TF29cc1ERFZpztG9G/uoH8mBQuf+BGz/vUXFD/xFtAjQd9U5bZApKtXi6G8clsg0ncGYvKHyfA36ak/QaibLYT7HdixeDlcDScJ0uWokuxxVK7CvDk2OJSlPogt+4FJ4fegdtdmVHhZE8qlIfc4dqacgLMhvOjDjjPGT3NEcVdCalEmFEcaxRBUkZuOTO2dRu9RiEYhBHUhAIvrY+hbuGszip0My+nwPTugPogthU1wbnTEmPB74FV0ELl1TSjVWnuiZKWirpx89bS2z8RP+3PbPrVKKyryfkTur/rRaHufe/DoAx6oP5KLncXAmIdGQ5u1HycbWyEbNQ1hwe4AzuHAf7NxbngYwgJvlS6wh+m/A41+wvdF+p0w0uExdvXHNVobcPLAPrFsp7+zL6aEToQXNDiQId13ZcjcfBAXA+Zilj9w8Wwhcg7oS3JgNxAe42ZgRoAjWivykZ5dCi1cMOrBWbh7CHCx7CB27CuD1s4dQWHT4O8gXREiot6vO4J+HyrdKUNqTCimTRf+3sM+o1Z16qJ223AmBQvFtlAsTC3TTx8WifV71iFimHHnnlWjVsFZLkT6UpwsAPyXS0M+gLw3oMJqTBRG8PNSoIYK5XmlAHYgfyfgP0cYwd+B0mNAY0EaKo0W0fdpkJu2GYrMMrS0lCEzZTOOVAFVRzZjZ5G0r0TRcf3ItRBoijSowgU01upfek0OQ1TkNIypbUKLvSPcTGZG23unHUSF8bTiagwZL4x0anD67AWgsR4VACpyT6BqyBgxSFaUVqIFjag3LmkpyoQiRbr+x1F4GvCdJgSn46ioAlq0dZ2+Z4dqm+DsNRrOztAvp06G4WiEvZOrvl19EFtSNkNh+NuSqzHMqEFuWjpy1cexU2zPRKHRogt3tc2nOFLdtky0bWPbn2HeokzJ/uyJkp/RmBU5F49NBuobAWdXa0M+gJP7cejiGIxyc8f4MYPQck6DsyX7sbO4H8bPmYYxredwzlAyoq2v08/TrMG5Zkd4DL/RId/wHWhxh5fhpLgiN89yyO/kGLPquG5H7RElTjuNQ9jcufhj6Eg4NZai8DiAegv7rrYadRddMGQ4AJQi72gTfB4IRVTkHNw7FDhbosJZAPVnq6HVAdA1ob4WQONR7My/hDH3+cLpcjMahSt4REQ3ob4T9HMV+HTkCmTuyTD8vYz7xLb3EPnrX9ra3gGWrdqrbzuTgoVP/BPD3xHmy8D6CB+jBV8N6UmH4U94z86oP8DGxfbYsNgeuZrVmCaMuqvTUF4VCOQFYoOhfUPSDgBApVoJePpjqGHUf8P2QEye5Y9GtQpQq9CAQLjJhWUvh+v81XCuUqLG9J37OE9MDr8fvva3wnfaXERN84H9kDGIiux8RL+wohr2Hj7wEgJ7hSN87aW99P3gLGu/lMO4TV0GjRCcijKhSMkDPNwNjfpwNMRLGAHdjP0YiiFtSzJyK5yNzyyKNKiyH4rhhpFURYoGzkJQ7PA9O1ZY0QhnN0/I0ITTuccBX33Ac3YVRmUr4TltLqIi9fsWp48bwnwdGlsuoDTzBJynzUVU5P3wtW8LdoW7NuMI9J9DVORcjB9iFKCLMqE4Aow3tEWNdweGeOpPYNwcYd/SBMO5lsl2d8zwGZqcPGyGYtdxacf2qcugaZHsdyu0nN4Hld1gNKsbMHDIMHiNHAzZ5RqcPQPAbRzCIqbiDgfAyc0wenC6BvUDZRjSxfcxpj8GpNtreqLVPqN9VeyIaeKo+3EUnr4AVBW2LVM46erwGOvKcW3OLWgqZoz3hH1/oL+rAwZiIAY6Wt53LafPQevgDi8HAPDF5Jn3YNTggQAGwsHeDnC4FUMAuAXNQlSID+wxCB4jq3Eo6wwG3zMJd2gboL3GfU9E1Nf1naB/++0Y9cNb5qP1APb9tAf44a22wP3qHuDXMqgBqHN+RMlDK7q5JMcHEUltJw7i3ysPSDtaJn8e8z5swZMftiAsKBnpb35gNPKegnKk4ckPW/Dkhyr4a8KxI69tVlWSvb5E57XnMbhtsl5eNDasVmLch0pMbjep9nHqMmhgCMGllXD2ko5GWqLRj96iDFtS8oBJcxE1U4ZGs6Cn72cyGi3yxOTwuaajn4bR//pdm/WlKpFhGI5Gw8lAnX75dZlQpGjgFTkXj/kCjXCGzDjIBkxDVKRpfX1FXSPgDJxO24z9CEZU5DTItBf069Xhe3bkOCqq9O/t5tQIDUZjshyo1QLObhrk7i+DsziCC0Aug7NklLZthLcOjS2G7VAfRHGVO8aL++U4KqqE/SqMDLeVdBRWGI32y33gaXzCIJ6MdcbwWQgnD8Kf2ch0B2qb0CL9LDpzx/34Y+RczBh0BiXNXpg82QuobEIzXOAmVMhJRvBLKxvQ380T11JAp7/aJN1eK8pkAJN9Nc2jEpnCCYK6Ho1wbzsBi7wfvihDYVE3HdfWKK1GfX/XthtlJfuurLYJA91ug4fJTABwAWfPX4CT+zD0N0ypVVejxdkVbkfzUeYWiHu9+nfLvici6uv6TtAfFon1ezKQuecB7JweimnTFyH1TFvzTKMR+8w9GchMikRX/3/Hetc4om9k6JzVkJuMvEdinFhX7ws3T6BBXYqh8kDgWDiOylViHb5Y9iP3hwtSkLs9EGFCbX+FEo1DAs1PBvos87KdzNMXUHXEuMSkPXVobAGqzgKTDKG6IveEhdFjfYjx9LWunKOirhFoKUOjlxAy9aOkQ7xGG4LUBX39u1BnX1iGFmE0uwO12gtAVSUwaa5YA11cpV+vDt+zI+p6NBre22tymKHsQgj/hvDWzlUF/X/7YIxw1URdj0ahvKm2yXSbijSoEkNfHRqNSkWEEqS2chlPyJwN5VPqgyhu9MEka+rlzUqBNkPRxZKfirrGtisLXVKGwtMX4BFwD7z6Ay1nz6PFeTB8hMRpMoJ/DpW1F9tG96+KcblU21/nx7w5L1dn0wkWS9Su33EtdbayFhedB0G8vmqy78pQUdsK2VBLV19/Q1XdQLi6DzK8bkVZdRPsZVdQWOaEoHs90b9b9j0RUd/Xd4K+6AG8ticD7z5UhuLf9FOGj/TBrlfNR/oBQD5lBkb98E+Tk4Jrd40j+kYqty2HWgjk8nB4D0lBqTiCvwOlx/zhHewLBEdCDsN/Q1+ic1RowyPwHQs4B4Ubns5TitztKUavbYF+ZHL8EKOyHXsfTIs0hOEOucLZHhjiZ3iaiPog9p8GfCdJnrairm93ZLJwl7Q+3xCcjAJw4a5CVA0Zoy8jksvgjFvhO0a4JyATR0xGvvXrscWsPh9wc7oVGHKnWB+du78MGB6MyfJO3rMDFaWVgPRKhboejeKLtvsVgOPYeaRa3F/6KwxtVwwqSivRYnwFQbg/QH0QW45USwKkMGKvQW5aIaokZUpuTreisU6DwsJKeEo/j/YETLMwwm3NU4fa1ApXSLpKrUHNRRcMGQkArThZ1QB7d0+4QYNDGdugUFYDFzU48N9sHDl9RlKfbwjtkuOoY/p7CqTb2/kxL6X/TO2Hj24L5CZlU231+x0eY9Yc151oLd2HLamb8eOvF+A01AdCBV1pZQP6uzpCm5uJLRsPouIiUHu2VDI3gNJzplcCcBpVdQBqKtHffxJ8+5tfHSAiuln1mafuqFMXIfJzw020APDQCpNgvW9VKJb90NY86ql1bbX4ue/py3nM2toerdnGB8/86zreoKv+ABtXL28LWNLHYEraTR6hadImfSyn6WM7nWfZ4hN3jmNnWj3GhN8D5KZjP4KtDzzqg9iSWQb9fXmmjwo0fYylgcmjN9t/DGXhLv0NwebzCPXpwuMJzR9rKLSbP8rT9DGg0kcXdvie7Si09HSiokx93Xb4PfAyWVfTx4uaPPHH7LXxYxbdMX48cMToiTvG6zpk/BjgiAZeFh4TKt3G60P6qEmYHQsdKv0Zm/ZpYPqvWX94BP8PZgw5ivQfSlCPgfC4ayJGtpbiyEkNtP08MXnu/YbyEcP7d8sjPTtncpxYeGRsu4/VlM4rPcY6O647UVuwEzuON6C/60hMeSgQXv0hPp3opO42+Af6ovWXgyipvxVeE6dj2ihHk/nPHkjHj9W347HQcfqThIqD2JJVhktDxuDRmaP101SZUBTdYrTviYj6nu546k6fCfpEZHsqctOReXZojwRfIiKivqQ7gn4fLN0hIptQlIlMSyVURERE1C04ok9EPUsso+pC2QwREdFNpjtG9Bn0iYiIiIh6me4I+izdISIiIiKyQQz6REREREQ2iEGfiIiIiMgGMegTEREREdkgBn0iIiIiIhvEoE9EREREZIMY9ImIiIiIbBCDPhERkY0q2fMjDtVKpxLRzYI/mEVEZC21Eul7f0V9qwv8H3wAQyqP4MjpgQh6aCK8+ks7E1nQWIrc7GMoq7uIVruB8Bg3AzMCHKW9rlIrqo7+jJ+Pn4P2cn94BI5D/xINhv/+fvhKuxJRr8cfzCKi3kV9EFtSMlEonW4rLl/CxVYAugaoftqDIzXumMSQT9Zq1SB3dz5K6y6iFQB0F3G2MA8l0n5XSVuUgx8Lz0F7GQBacbaoCDXOngz5RDexm3pEf9+qUCz7wfDioRXIfOUBSY/uVorcN/2hqhJe+8N/uRKT5fpXqiR75B4zNI1Nw5MxjwgdUbktEOk7VeJr51kqzJsj/PO9AzsWh0NteCWf34JHgsWuHS637zmOnSkaeEVOg1tuOvYjGI9N9pR2suA4dqYUQtj1Q8bPxawA/X9X5KYj8/QFsaf98PutXKZ0XneMj5yGMUJjUSYUR6oNL26F77Qw8bPumAa5aT+jtMXwcsgYRM0cLbZ2+J4dMVkf8+V2i6JMKIodMS38HnhJ23oJk/1n79Or17V9pseI6TFreqx36RhpR9XBHdh51hOPzAmEm7TxRpMc1x3tC+PvvXQfSvdTh9+zq/5uExFZrztG9G/eoJ/7Hqb99IAh3O/Fm9PfAt7JwGuTpR27T+W2QGQirS2g50VjQ36kPngb/7chuEMI7OoPsHE9MO215zEUMLSnwPfDZPgbTh7qZgvhfgd2LF4OV8MJROW2QKSrV4vhXpVkj6Ny45OEPqYoE4oKT0TNdEVuWh4wyZr/g9WY9i3KhOIILIefLgRVfRBwFpdTuGszip0MIaMoE4ojjWIAqMhNR6b2TiuCtSF8OAsh/Dh2ppyAs/Fy2nvPjnS0zd2ooksnXz1Num+t11pXigM/G8ot0B9OIych7F5P9G88jh9/KMTZi/3hFTwH00b1B5qPIv2/v+G2GWG4V/+F7Zh4TFu/ToW7NqPCyxBa1QexJbMSnhbDpn6bG/2MA277tCU/Y/dhDbSXgf6DR2PGQ/5wPp2PjH2V8Jw6C8PLf0TOr01olY3ErNmBGALg7IF0/Fh9Ox4LHQd76QKvN+lxbfK6o++9fr9oPITvjunrDr9nV/3dBi6eLUTOgRM4q20FjMt2OjuO3Btw8sA+KMsbcLEV6O/siymhE+HVvwmFu3fiyLlW9JcH4g/TRqJ/awOOZGaisPIi7Efej8fu7Y3fRSKyRncE/b5RunMmBQunh2Ka8Ldqr1HjXrxp1LYwtcyozRDojdrfzDVMn/yy0Qj+A5j1EHD6N8m83WyoPBCNO8ORq4Z+dH97Cpzl/vrG4GSjkfZH4DsWaFCX6l/K/eFStRyZ2/SvK7cth3pIIAYDQN4bUGE1Jgoj+HkpUEOF8rxSADuQvxPwnyMsdwdKjwGNBWmoNEzpO45jZ8pm/ShaVSEUKT+jtOUCSjPTDfuzI56YHC4JQfaOFkYmNcgtroa9h49pyC/KhCJlM3YWGU88jsLTgO80ITgfR0UV0KKtE5czZLzwnhqcPnsBaKxHhdESKnLToUiRrH/RcZTCB9OE0FCkQRUuoLEWnbxnxyrqGoEhnpZDvrTcxvi1+iC2pB1EhWEfKFI2Q7HruNHMGuSmGaanbEbm6Qtwdm0LFoW72tqM563ITTddjnQdroOK3LyrCvnAeRzJK4NT4Cz8IfJ/EDbKEdpfj0MFAGerUXURAFpRV9+g715+HtqBbhhqTcg3fDb2Tq7SyR0aM1Ma3J0hMwv5huOpxR1eVoR81Crx02lXBA1zxx3jfXBLTRXO1h7FD/uqMSzkEUz2asLZ6iZ9yYm2Afr7Oy+govoCnIb69HzIF45ro+9yYUW10euOvvd1aGxB27GqLoNGfN3R98y677Zlpcg72gSfB0IRFTkH9w4FzhYX6ufr5DiqPaLEaadxCJs7F38MHQmnxlIUlgBAJapqWwEArQ31qEcrSvdmocxtMoKGApe0TUbvT0Q3oz4R9Pd99U8MfycDmXsMf2JAL0NqzD/h9y+hbR1m7XoTqWcMzbnvYdqrJ/CM2N7eiP1e7PzBB7Om+EgbzElPOqQnEB0JTsaTy6NRvtoeGxbrR+Etj6zvQOkxf3gHC22P4JEPVfAu8MeGxfb6EXrD6H6lWgl4+uv/e1sgNmwPxORZ/mhUqwC1Cg0IhJvccFVg8XK4zl8N5yolaiTv2PuNxqzIMRgCd4yPnIuo8e6wH34/oiItjWJ25Dh2HpGEeTHE6kc+LY9G3wpn4zODIg2q7IdiuGFET5GigfPwW/Vt6jJohHBVlAlFSh7g4W40szHTgFZYIaybIUBXOMJXSFAdvWcnvCbfiSFVheYnFgBQ24QW4xMf49e1TWhpKUNmsSOmRc5F1DQf2Iuhpm0UNCpyLqIi74evfdt+Kty1GUcwxtA2F+OHAEO89CHby9XZJBxVlFaipb0TEWPGJxzin4VtMnMchacvGE4SDfOlHbQinAHAIATNmIrx8lvRH/0hcxgIDLwFTgBwx/34Y+Q4DMFAuLoPAgCUquvQ6nqb1XXRtVrTk6Ou0SB3f5lk3xmdfBU7YlpXruJUHUdOlSPsayrR4jYEd7h54rZbm3Cuokm/H0LnYsbIWwHnQdD/a/kbquratv2qXPVnCnhNDoYvypBpmO8IxiDK4tU46fd+NGaNd0fVEcP7ZVbCc5rh5Kmj71mXvttSvpg88x6MGjwQwEA42NsBt9rrB2w6OY7cgqZixnhP2PcH+rs6YCBuhbNMv8xpj/8PxgwG7N09ISv5GQUX78Tvgq6gvgFwchsmWQciutn0iaA/fKQPdr0qHckHcGYvdp4ow6dPCIF7ET49UYbi3/TN+37ag1FPvYaIDv+tK0NqzFs43Wk/g2GRWC+ccBj9WT6BkMiLxobVyfBe3oInl69Gw1f22GgYpW9Titw3w9EwK80owO7AjsX+KA9S4ckPVfDXhGPDmx+YjMqrktpOAAYbTQeE91Vi3IdKTDb/f8C+o0iDKkOgKaxohKdvV8ORvl63UVqDHzDNEEbHAEc2Y0uuxngmQ7vpCUVFXSPgDJxO24z9CEZU5DTItBf0I7OGoFy/a7O+JCMyDMPRCDjLTAKI1+QwRJmEMA3qGwFnlGFLSh4waS6iZsrQ2KIPzx2+Z6dGY1bkXESNd0ZppmnIrahrNDnx0b+P8bq6Y7wQnmqb0CK0Ga4+TBL2pboMmhbDiYv6IIqr3DFeHD0/jooqo5OlAE8MaWkyjArrR0WFk4AOiZ+V8Z8VJ3vqejQKJ4nCSQnKUGhylcY6pVUN6O9mdINj6TnU93eFly8AnEdV/UXI3G83mUdKHyAN4bQKbYHT5GpJZ9orRfLE5HD9dk7zqESmtVdK3AIRFjkXf/RvgUrjjPEPjIF9ax0aW27FYLmLoZNkBN9k26/S1X6mEK5YAPbDfTAEaGdk3dL3Xj8yD7jDd/itgHjVrJPvmZXf7c5dwNnzkish1h5HpdWo7y/DEPENT6Oqrj9ch1xCTtEl3HHfaDg1a3Cu2REeVg4EEJHt6hNBXx6xTh+of7dXH+hjUsQbT3HnX5ByNaEbMIT8Rdg5cx3WR1gxmo9rG9FX5afAWQjw8ucxb36kpIxGX29fHiSpoc9LgXrIakyb46sfFXotDfKqZJxU68uBcCwcR+UqsfSnRq3SlwTJ/eGCFORuD0TYh8nwB4AKJRqFsp8+Q1q2sxlHqi6gNFNaTtMB9UFsSSkExrc3Yg8ArnC2sv6gVnsBqKoEJhmWpz6I4qpb4enrqQ8KLWVo9Jor1tkXnrYmyOrLCarOApMMQaci94Q4utjRe1otYBqiIsdgSEslTqshhuy2EWXTdS2sqIb98NHiyYhxmYnZCUJppemVAONR5iINqkyuXrjC2b4R9WpDWHMeY0UNuWmZkPhnbTi2WK7VVedQWXvRZKT0bGUtLgoj3M1lONt4K27z6jhg6U/y9CeX4lWqSOF4scZx7EwxXE3pYB4vV2fppE5cwJET52A/YgLGOAMok4ZK0xF8k22/KtfwmYo193Px2OR79Ff8WiQnbxa/98ZXoqZh8uQwTBt+K6qK9Se/HX3Prv67LWV+JcTa48hsn1dUo651EByqCtE8/D6MdwZwugb1A2UYcu0HPBH1cX0i6Ismv4zMPSsw88RvOA0Aw3ww/MQ/8Zq0Lt/gvt9NR8nnCuyTNgCG2v4uhnxc44g+oC+pMahUK41a2kbtLZbzGJfbqFUwVHECwZGQw6jMR/0BjoplP/paf+egcMNNvIb7AsTXfcVozIq8H772bWU7GKIvCek8HBpGTzOb4NdJ/4rcPJS2uMPP+ERAfRBbzOrzATenW4Ehd4p1urn7y4DhwZgsN4Qrex+MMbxX4a5CVA2RBNmiTAvlCfoTjSF+htFz9UHsPw34TtK/7ug9u6Ii94RR6NaP2OpH2jXITTN+WovhCoN4EiA9KTC6P6AoU/+EEuORTWF0VX0QW44Y104DgCdkzhfQWKtBbjGMRv470jZSbfJn1bwAxCsIwkiwlbXrAIBWlO5NhyIlGydNRkoNI9wuA/FL5g5s2lqCelzAubLzkvnboa5HY1dPQIoyoUg5AedpHZ20oq1cxehErVOtpaiquxW3yfUBtEJdi4uugzESQEXeTmxKPYoqXETFwXT8eKQMZZL6fOFKhfT70r6r/0yl9fn6k8m2q0btf+8l9flCnb3h2O3oe2bVd7tD1Tjyw3+hSDmKKpMrIdYeR+b3RNSqq9Fi3whNrSfuDtQ/j7+0UnLViYhuWn3gqTv6UfdPT7RNmWn8dJwzKVj4xD+NnkM8He/ueRn3GV6pUxch8vO2EwFhXul0PdN5u5/08ZqRmGwYaZc+PrOzdpNHaKo/wMbVy9EImD2yU/qepo/l7EPUB7GlUIbHZo42feJIZ9QHsSWzDOIT9AyGjJ+LWW6SNkuPWizSP0bP9LF8aCubsPh4Q0N9uvhMP2lphfD0HJg/ls9kfaWP7ev4PS0znQcw307jdR0y/n44FwtPKjF94o9+FNnotfG62vtgvEclisUn7hg/1tAd48cDRyRPltHvgwsW9u31IbwfYL4POnceBRk/QlXXH7JRk/BIsCf0j84vwc6Uo6h19cKYQHdU7T2KCrhg1P0zcLc1D9fv8hN3pI/O1BOOBZPjzuxxkp1oPor0/5agXjLZadQMPBoMw/YDA4eOxr0jr+DXo7+iQtsfXvfNwTTDPyk9+5lK94XR96Wj732A5FiA9Dva8fess+92x0qR+Z98VLTeCq+J0zFtlPBDWdYeRyXYmXIcA8V93oojP/wXhTXG/1acw4H/ZuPc8DCEBZpfESCivqM7nrrTB4I+Edki8WbdLgUlIiKim0N3BP2+VbpDRDahIjcdR0xu1iUiIqLuxhF9Iuo5hlIos18aJSIiIhPdMaLPoE9ERERE1Mt0R9Bn6Q4RERERkQ1i0CciIiIiskEM+kRERERENohBn4iIiIjIBjHoExERERHZIAZ9IiIiIiIbxKBPRERERGSDGPSJiIiIiGwQgz4RERERkQ1i0CciIiIiskF9MOjvxZvTFyH1jNGkMylYOD0UC1PLjCYayX0P06aHGv7ewz7jNsO8+jbJcntQ1a5A7EvZIZ3cZftWdbAfqHvlvodpq/ZKpxIRERH1CnY6nU4nndjdLl68KJ10Dfbizen/hN+/1iFimGHSmRQsfOKfwFPrsD7Cp/P+ojKkxixC8YIMvDZZ2tazqnYF4kTVatwX+Yi0yWrq1EWI3DUDKUmRkItTd2DH4nCoxdeRmPxhMvwNr1RJ9sg9ZngxNg1PxrS9f+W2QKTvVImvnWepMG+Or/6F+gNsXL0cjQAAf/gvV2Ky+Kam7ymf34JHgoW268NkOyy+p/E6ma6vyXYOWY2w157HUMNcHbXBcGK1fqSl4677ST8PPaNtyYvGhq9SzKejs8+rC8eBhX1ARERE3W/gwIHSSV3WB0f0LRgWifV7MiyHrTNlOI07Mdws5APAbyg+4QO/26XT+6AzKXjt8zvxrknIB1RJ4cD8Fjz5of4vbJYSR7eV6hvzopGLNENbGuTHwrEjzzCj+gNkFkQjzDDfkx+mwWXnG9DHvR3YsToZ3ssNbcujUb462tBWitw3jd8zDfgqELltZxrXhX9M2zY+OT8S6u0foFJoVH+AjYuN18ko5OZFI91oO8OCkpGeZLiy0lGbwX2vrMDwz9/skStBQ+co27bxwxY8uXw1nBEIN7lhG79Swr+9z2R92+cVNgtQrW/bP5XbAo2OgxZMRjg2Gh0jne0DIiIi6p36SNDfizfF8pq3sMuoZd8qYXoo3sw1ahBKcp74J0qwB8sMffRlLcLy3sIulOHTJwzLuO5lGDtw9H177BP/onHaqHXAEECVKLQFQlVh1FgQbTSfPQ7tMgQxg31f/RN4Kgr3mUwFBsv9of5KCHw7kL9TBRe5YVQ+ONlo5PYR+I4FGtSG5cr94VK1HJmGwFe5bTnUQwIxWPjvsavbRsTzktGIFJTmAch7AyqsxkRhND0vBWqoUJ5nur7XU6VaCXj6t43K5yUDs1QWriqUInd7CuSzhRHqUpwsUAHHUqDqsM3YA1j4FPDpV9f72DGn2rYcmPWG/upMhRKNRp8J5OHwHqJErRoAfDH5tbaTm6HB0XCuUqIGMBwTgP8c4TjYgdJjQGNBGiqt3gdERETUG/WBoL8Xb05/C3gnA5l7MpC5ZwVmGrXe90oGMveswzN3Gk1E2yh/5r/+glGYjnf36OfXj/o/gNfEZfngmX8Zlv3KA5KFWGBS09/OSUa7HsG4l1pwn+HvziAlzhkF9ssF4bh0r9AGnM8SRk5LoTqgxKA/t81790xDWAcAlOH0rz6YNcX8isbQOUo8OR/IXWyPDYuXw3W5tKRFsAOlx/zhHSws9xE88qEK3gX+2LDYHunq1XjSULJRo1bBWa4v/lEl6dsmG04SjEN25bZAbNgeiMmz/NGovt7RcAd2LLbXr+vOQEwWT2D04dQFadhoaN+wWDjxUaGuyh+uXsL8/qibnQY5lKhVd9Rm9LYA5FNmYNQPe03v/WhXGVJjzI+fLp9kqj/A0WORGCeUUnkFwtk4gOe9AVWVCnXGJ4sGlXnJaBwbqT9BUKvQYHxVYPFyuM5fbTgRsH4fEBERUe/T+4N+7l7suvMvWHiDa+hFwgmE5M+6Gv9SoxF7e5woUOFylVEA9knDuCD9fw4JiMaAOhWqAAC+cHBV4fy/zUfy9X5D8QnL5UmV2wKx4Stg8octeHJ+IFSr7dvKc0T6cpuGWWmSOnt/lAep8OSHKvhrwrHhTaNyGKiQ+6Y9jspVJvXcYqvhBODJ157HYGlju6QhWHLjdIcewSNi6Q6QK4Z5PXUBME0oP5mlRK5x+UmFIeBaOgnqqE0wzAfDpdPa5YOIJPPjx6qTTCMmo/kAIH8e02YpDSd09tiQHwj/IUJIN5IXLTkRapu+YbUS4z5UYrJ0Hmv2AREREfU6vT/o9zbXMKJftSsc57Ead4oj+mJM69TwSP08vgjXnyhY9YQe/Wi2fL7h5tvgZITN8oc633jeUuS+qQ/04o22MJTcDFmNaXN8DaUfaZBXJeOkWl8O1LgzHHWzWwzzlKJWA7jIfTFUHggcCzc5ATC+AtAxaQh+2awUySrBb8BfLFvRays/gX4dNSpUwh+uQ1RQfWUIuHLjEe6O2tqW23XSk5mrGNHPi0au8Wi+gUkNf4w/6qok65oXbTjpa7sZG3J/uCAFudsDESZMr1CicUggBne4f4yWS0RERL1S7w/6t9+OUSd+RNYZGEKSaY1+j7uGEX1tlQpw9ccQAMAOqAvaL2c5nbUcuCPc0LfNkJlK3Pfn1Uaj/QBwO/zuPIHT7dwQKtbdG0J3m7ZRe5OQLxDruIWApzc0OBrOiISvWIf/BlRVhtfBkZDDqARI/QGOmpQE9YC8N6ASQ64v7ggyPblR5afAOSgcQw1tEMpYDCPl+rKWjtokzpTh9J23WzmqLz2Z6eqIvr5u3tl4NN+McIWmrU/blR2jkA+I92bo94dh3u3W7B8iIiLq7frE4zXVqYsQ+bn+2fAz31kHvy/fBN5Yh4hh+sdjfnrCtP/Md4yC95kULHziNyy0ODrc0aM3r4OKD3Do38txGQDgj0FBgThfFYn7Ih/RP17TOPj7pBk9anMHjr4fDq3Y6I9Bf1bC36jEov3HPEoer2n0eETLj2tse/ymtN3kkZUmj3I0fWRnZ49y7H7tb6Oe/qqFSjgzkjw+sqNHS3bUJlCnLkLkr3/pQli/BpZG5QGzbTR9vKj0Eat6bY9LNZ3X5DGqVu4DIiIi6l7d8XjNPhH0yQodntDQ9dPDJ4tERER0U+iOoN/7S3fIOsMi8eZTJ7AsJsVs5Jaun32r3sLpp15jyCciIqJeh0Hfhsgj1uHdkf/EeituDKZukPselmGFhXIpIiIiohuPpTtERERERL0MS3eIiIiIiMgiBn0iIiIiIhvEoE9EREREZIMY9ImIiIiIbFCPBH07OzvpJCIiIiIisqC7sjODPhERERFRL9Jd2blHgj4REREREfWsHgn6/fr1yNsQEREREfV53ZWdu2cpnejXr1+3XYIgIiIiIrJVdnZ2fSvooxvPTIiIiIiIbFV3ZubuW1In+vfvz1F9IiIiIqJ22NnZoX///tLJV63Hgj4MYZ+IiIiIiMx1d1bu0aDfr1+/br0cQURERERkC65HTu7epVlhwIAB3b4RRERERER9Vb9+/TBgwADp5Gt2QxI3wz4RERER0fUL+QBgp9PpdNKJPeXKlStobW3FDVwFIiIiIqIeJ9x4ez0Hv29o0Be0trbiypUrDPxEREREZNOE5+R39423lvSKoC+4cuUKrly5AgDQ6XQM/kRERETUp9nZ2YmPmL8eN9x2pFcFfSIiIiIi6h49d0pBREREREQ9hkGfiIiIiMgGMegTEREREdkgBn0iIiIiIhvEoE9EREREZIMY9ImIiIiIbBCDPhERERGRDWLQJyIiIiKyQQz6REREREQ2iEGfiIiIiMgG/X+9YLa1kPXpBwAAAABJRU5ErkJggg==)"
      ],
      "metadata": {
        "id": "umD4FhjrV8lP"
      }
    },
    {
      "cell_type": "markdown",
      "source": [
        "![image.png](data:image/png;base64,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)"
      ],
      "metadata": {
        "id": "FiYoNGdKWCfC"
      }
    },
    {
      "cell_type": "markdown",
      "metadata": {
        "id": "pLDGW8IobPqk"
      },
      "source": [
        "# Conditional statemet คือ ประโยคเงื่อนไข"
      ]
    },
    {
      "cell_type": "code",
      "source": [],
      "metadata": {
        "id": "ub13ZtlzUhOu"
      },
      "execution_count": null,
      "outputs": []
    },
    {
      "cell_type": "markdown",
      "source": [
        "ชนิดตัวแปรที่เกี่ยวข้อ Boolean (True,False)"
      ],
      "metadata": {
        "id": "TvK12jMwcVp8"
      }
    },
    {
      "cell_type": "code",
      "source": [
        "condition_1 = True\n",
        "condition_2 = False"
      ],
      "metadata": {
        "id": "JWxlKa-icUk6"
      },
      "execution_count": null,
      "outputs": []
    },
    {
      "cell_type": "markdown",
      "metadata": {
        "id": "8_-zCLkrbPqk"
      },
      "source": [
        "### การวนลูปโดยมีเงื่อนไขต่างๆมาเกี่ยวข้อง โดยมี pattern ดังนี้\n"
      ]
    },
    {
      "cell_type": "markdown",
      "metadata": {
        "id": "ZQuWb-bybPqk"
      },
      "source": [
        "```Python\n",
        "if condition1 :\n",
        "    do something\n",
        "elif condition2 :  #elif คือ else if\n",
        "    do another thing\n",
        "else:\n",
        "    do ...\n",
        "```\n",
        "    "
      ]
    },
    {
      "cell_type": "markdown",
      "metadata": {
        "id": "kUPdCRG7bPqk"
      },
      "source": [
        "## ==, !=,>=,<=,<,> Operator ของตัวเลข"
      ]
    },
    {
      "cell_type": "code",
      "source": [
        "def time_to_second(time1):\n",
        "    time1_list = time1.split(':')\n",
        "    time1_sec = int(time1_list[0])*3600 + int(time1_list[1])*60 + int(time1_list[2])\n",
        "    return time1_sec"
      ],
      "metadata": {
        "id": "9NIOIupSd_Zn"
      },
      "execution_count": null,
      "outputs": []
    },
    {
      "cell_type": "code",
      "source": [
        "time_list =  [\n",
        "    [\"18:09:10\", \"18:25:10\"],\n",
        "    [\"13:38:39\", \"23:54:39\"],[\"16:49:58\", \"18:05:58\"],\n",
        "    [\"21:49:10\", \"22:24:10\"],[\"08:52:21\", \"09:25:21\"],\n",
        "    [\"06:56:26\", \"07:49:26\"],[\"12:08:05\", \"12:43:05\"],\n",
        "    [\"01:48:38\", \"07:18:38\"],[\"08:51:21\", \"10:17:21\"],\n",
        "    [\"17:05:17\", \"18:09:17\"],[\"18:51:21\", \"00:17:21\"],\n",
        "    [\"17:05:17\", \"11:09:17\"],]"
      ],
      "metadata": {
        "id": "CYcYQJ45d8Wx"
      },
      "execution_count": null,
      "outputs": []
    },
    {
      "cell_type": "code",
      "source": [
        "for time1,time2 in time_list:\n",
        "\n",
        "    if time_to_second(time1) < time_to_second(time2): #ถ้า time1 น้อยกว่า time2\n",
        "        diff_seconds = time_to_second(time2) - time_to_second(time1)\n",
        "    else: #ถ้า time1 ไม่น้อยกว่า time2\n",
        "        diff_seconds = (time_to_second(time2)+(24*60*60)) - time_to_second(time1)\n",
        "\n",
        "    print(f\"Time difference between {time1} - {time2} is {diff_seconds} seconds\")"
      ],
      "metadata": {
        "colab": {
          "base_uri": "https://localhost:8080/"
        },
        "id": "sv-1il2_dmvv",
        "outputId": "50f45721-6ca1-4fc0-f786-ec748affb410"
      },
      "execution_count": null,
      "outputs": [
        {
          "output_type": "stream",
          "name": "stdout",
          "text": [
            "Time difference between 18:09:10 - 18:25:10 is 960 seconds\n",
            "Time difference between 13:38:39 - 23:54:39 is 36960 seconds\n",
            "Time difference between 16:49:58 - 18:05:58 is 4560 seconds\n",
            "Time difference between 21:49:10 - 22:24:10 is 2100 seconds\n",
            "Time difference between 08:52:21 - 09:25:21 is 1980 seconds\n",
            "Time difference between 06:56:26 - 07:49:26 is 3180 seconds\n",
            "Time difference between 12:08:05 - 12:43:05 is 2100 seconds\n",
            "Time difference between 01:48:38 - 07:18:38 is 19800 seconds\n",
            "Time difference between 08:51:21 - 10:17:21 is 5160 seconds\n",
            "Time difference between 17:05:17 - 18:09:17 is 3840 seconds\n",
            "Time difference between 18:51:21 - 00:17:21 is 19560 seconds\n",
            "Time difference between 17:05:17 - 11:09:17 is 65040 seconds\n"
          ]
        }
      ]
    },
    {
      "cell_type": "markdown",
      "source": [
        "# HW3 เพิ่ม ฟังก์ชั่นแปลงวินาทีกลับมาเป็น ชั่วโมง นาที วินาที โดยไม่ใช่ฟังก์ชั่นช่วยเหลืออื่นๆของ python (~~import~~) ถ้าส่วนของ ชั่วโมง นาที วินาที เป็นศูนย์ ไม่ต้องแสดง"
      ],
      "metadata": {
        "id": "JMvgwO7tgxSZ"
      }
    },
    {
      "cell_type": "markdown",
      "metadata": {
        "id": "sSySEFHNbPql"
      },
      "source": [
        "# HW 4\n",
        "#### เขียน function ตัดเกรด โดยที่ input เป็นคะแนน(0-100) , output เป็นเกรด (F-A)\n",
        "#### วนลูปตัดเกรด input = [1,50,65,90,101,-5,49]"
      ]
    },
    {
      "cell_type": "markdown",
      "metadata": {
        "id": "c3TDhZHzbPqm"
      },
      "source": [
        "##### กำหนด\n",
        "      ถ้าคะแนนอยู่ระหว่างมากกว่าหรือเท่ากับ  0  แต่น้อยกว่า 50 จะได้เกรด F\n",
        "      ถ้าคะแนนอยู่ระหว่างมากกว่าหรือเท่ากับ 50 แต่น้อยกว่า 55 จะได้เกรด D\n",
        "      ถ้าคะแนนอยู่ระหว่างมากกว่าหรือเท่ากับ 55 แต่น้อยกว่า 60 จะได้เกรด D+\n",
        "      ถ้าคะแนนอยู่ระหว่างมากกว่าหรือเท่ากับ 60 แต่น้อยกว่า 65 จะได้เกรด C\n",
        "      ถ้าคะแนนอยู่ระหว่างมากกว่าหรือเท่ากับ 65 แต่น้อยกว่า 70 จะได้เกรด C+\n",
        "      ถ้าคะแนนอยู่ระหว่างมากกว่าหรือเท่ากับ 70 แต่น้อยกว่า 75 จะได้เกรด B\n",
        "      ถ้าคะแนนอยู่ระหว่างมากกว่าหรือเท่ากับ 75 แต่น้อยกว่า 80 จะได้เกรด B+\n",
        "      ถ้าคะแนนอยู่ระหว่างมากกว่าหรือเท่ากับ 80  จะได้เกรด A\n",
        "      แต่ว่าค่าคะแนนจะต้องไม่ต่ำกว่า 0 และมากกว่า 100 ไม่งั้นจะเกิด error"
      ]
    },
    {
      "cell_type": "markdown",
      "source": [
        "## ```&```, ```|```, ```in```, ```is```   :  Operator อื่นๆ"
      ],
      "metadata": {
        "id": "HSMQXdmmipMp"
      }
    },
    {
      "cell_type": "code",
      "source": [
        "if (1>0) & (0>-1):\n",
        "    print(True & True)"
      ],
      "metadata": {
        "id": "ES5d1z0ti306",
        "outputId": "4bc178b2-a5d8-4476-e02c-c87ddd5b91ce",
        "colab": {
          "base_uri": "https://localhost:8080/"
        }
      },
      "execution_count": null,
      "outputs": [
        {
          "output_type": "stream",
          "name": "stdout",
          "text": [
            "True\n"
          ]
        }
      ]
    },
    {
      "cell_type": "code",
      "source": [
        "if 'T' in 'Thanapong':\n",
        "    print('T in Thanapong')"
      ],
      "metadata": {
        "id": "3COnyOTKipAc",
        "outputId": "d50e2919-9cbc-41fb-d20f-6e5a371ebba1",
        "colab": {
          "base_uri": "https://localhost:8080/"
        }
      },
      "execution_count": null,
      "outputs": [
        {
          "output_type": "stream",
          "name": "stdout",
          "text": [
            "T in Thanapong\n"
          ]
        }
      ]
    },
    {
      "cell_type": "code",
      "source": [
        "def return_nothing(x):\n",
        "    x = x+1"
      ],
      "metadata": {
        "id": "01N3TOG9k3ti"
      },
      "execution_count": null,
      "outputs": []
    },
    {
      "cell_type": "code",
      "source": [
        "a = return_nothing(5)"
      ],
      "metadata": {
        "id": "drWbuBwNldOL"
      },
      "execution_count": null,
      "outputs": []
    },
    {
      "cell_type": "code",
      "source": [
        "if a is None:\n",
        "    print('x is null')"
      ],
      "metadata": {
        "id": "pOj0pkEEkbuW",
        "outputId": "29d5bf18-d242-40f3-a542-26c39aa2fcca",
        "colab": {
          "base_uri": "https://localhost:8080/"
        }
      },
      "execution_count": null,
      "outputs": [
        {
          "output_type": "stream",
          "name": "stdout",
          "text": [
            "x is null\n"
          ]
        }
      ]
    },
    {
      "cell_type": "code",
      "source": [],
      "metadata": {
        "id": "y1ET-H8ylyxP"
      },
      "execution_count": null,
      "outputs": []
    }
  ]
}